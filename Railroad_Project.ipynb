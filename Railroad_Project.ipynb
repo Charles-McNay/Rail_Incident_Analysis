{
 "cells": [
  {
   "attachments": {},
   "cell_type": "markdown",
   "metadata": {},
   "source": [
    "### Import needed libraries"
   ]
  },
  {
   "cell_type": "code",
   "execution_count": 35,
   "metadata": {},
   "outputs": [],
   "source": [
    "import seaborn as sns\n",
    "import matplotlib.pyplot as plt\n",
    "import pandas as pd\n",
    "import numpy as np\n",
    "import plotly.express as px\n",
    "import kaleido\n",
    "import os\n"
   ]
  },
  {
   "attachments": {},
   "cell_type": "markdown",
   "metadata": {},
   "source": [
    "### Function for counting rows with shared values"
   ]
  },
  {
   "cell_type": "code",
   "execution_count": 36,
   "metadata": {},
   "outputs": [],
   "source": [
    "def count_shared_values(df, col1, col2, val1, val2):\n",
    "    shared_count = len(df[(df[col1] == val1) & (df[col2] == val2)])\n",
    "    return shared_count\n"
   ]
  },
  {
   "attachments": {},
   "cell_type": "markdown",
   "metadata": {},
   "source": [
    "### Read in .csv file"
   ]
  },
  {
   "cell_type": "code",
   "execution_count": 37,
   "metadata": {},
   "outputs": [
    {
     "data": {
      "text/html": [
       "<div>\n",
       "<style scoped>\n",
       "    .dataframe tbody tr th:only-of-type {\n",
       "        vertical-align: middle;\n",
       "    }\n",
       "\n",
       "    .dataframe tbody tr th {\n",
       "        vertical-align: top;\n",
       "    }\n",
       "\n",
       "    .dataframe thead th {\n",
       "        text-align: right;\n",
       "    }\n",
       "</style>\n",
       "<table border=\"1\" class=\"dataframe\">\n",
       "  <thead>\n",
       "    <tr style=\"text-align: right;\">\n",
       "      <th></th>\n",
       "      <th>Reporting Railroad Name</th>\n",
       "      <th>Maintenance Railroad Name</th>\n",
       "      <th>Date</th>\n",
       "      <th>Accident Type</th>\n",
       "      <th>Hazmat Released Cars</th>\n",
       "      <th>Persons Evacuated</th>\n",
       "      <th>State Abbreviation</th>\n",
       "      <th>State Name</th>\n",
       "      <th>Weather Condition</th>\n",
       "      <th>Equipment Type Code</th>\n",
       "      <th>...</th>\n",
       "      <th>Gross Tonnage</th>\n",
       "      <th>Remote Control Locomotive Code</th>\n",
       "      <th>Positive Alcohol Tests</th>\n",
       "      <th>Positive Drug Tests</th>\n",
       "      <th>Passengers Transported</th>\n",
       "      <th>Equipment Damage Cost</th>\n",
       "      <th>Primary Accident Cause</th>\n",
       "      <th>Hours Engineers On Duty</th>\n",
       "      <th>Total Persons Killed</th>\n",
       "      <th>Class</th>\n",
       "    </tr>\n",
       "  </thead>\n",
       "  <tbody>\n",
       "    <tr>\n",
       "      <th>0</th>\n",
       "      <td>Northern Indiana Commuter Transportation District</td>\n",
       "      <td>NORTHEAST ILLINOIS REGIONAL COMMUTER RAIL CORP...</td>\n",
       "      <td>06/06/2017</td>\n",
       "      <td>Derailment</td>\n",
       "      <td>0.0</td>\n",
       "      <td>149.0</td>\n",
       "      <td>IL</td>\n",
       "      <td>ILLINOIS</td>\n",
       "      <td>Clear</td>\n",
       "      <td>3</td>\n",
       "      <td>...</td>\n",
       "      <td>0.0</td>\n",
       "      <td>0.0</td>\n",
       "      <td>0.0</td>\n",
       "      <td>0.0</td>\n",
       "      <td>Yes</td>\n",
       "      <td>98627.0</td>\n",
       "      <td>Switch point worn or broken</td>\n",
       "      <td>1.0</td>\n",
       "      <td>0.0</td>\n",
       "      <td>No</td>\n",
       "    </tr>\n",
       "    <tr>\n",
       "      <th>1</th>\n",
       "      <td>NORTHEAST ILLINOIS REGIONAL COMMUTER RAIL CORP...</td>\n",
       "      <td>NORTHEAST ILLINOIS REGIONAL COMMUTER RAIL CORP...</td>\n",
       "      <td>06/06/2017</td>\n",
       "      <td>Derailment</td>\n",
       "      <td>0.0</td>\n",
       "      <td>0.0</td>\n",
       "      <td>IL</td>\n",
       "      <td>ILLINOIS</td>\n",
       "      <td>Clear</td>\n",
       "      <td>NaN</td>\n",
       "      <td>...</td>\n",
       "      <td>0.0</td>\n",
       "      <td>NaN</td>\n",
       "      <td>NaN</td>\n",
       "      <td>NaN</td>\n",
       "      <td>NaN</td>\n",
       "      <td>0.0</td>\n",
       "      <td>Switch point worn or broken</td>\n",
       "      <td>NaN</td>\n",
       "      <td>0.0</td>\n",
       "      <td>No</td>\n",
       "    </tr>\n",
       "    <tr>\n",
       "      <th>2</th>\n",
       "      <td>Conrail</td>\n",
       "      <td>Conrail</td>\n",
       "      <td>04/06/1981</td>\n",
       "      <td>Side collision</td>\n",
       "      <td>0.0</td>\n",
       "      <td>0.0</td>\n",
       "      <td>NY</td>\n",
       "      <td>NEW YORK</td>\n",
       "      <td>Snow</td>\n",
       "      <td>5</td>\n",
       "      <td>...</td>\n",
       "      <td>0.0</td>\n",
       "      <td>NaN</td>\n",
       "      <td>0.0</td>\n",
       "      <td>0.0</td>\n",
       "      <td>No</td>\n",
       "      <td>4000.0</td>\n",
       "      <td>Cars left foul</td>\n",
       "      <td>NaN</td>\n",
       "      <td>0.0</td>\n",
       "      <td>1L</td>\n",
       "    </tr>\n",
       "    <tr>\n",
       "      <th>3</th>\n",
       "      <td>Illinois Central Railroad Company</td>\n",
       "      <td>Cargill Elevator</td>\n",
       "      <td>01/11/2007</td>\n",
       "      <td>Derailment</td>\n",
       "      <td>0.0</td>\n",
       "      <td>0.0</td>\n",
       "      <td>LA</td>\n",
       "      <td>LOUISIANA</td>\n",
       "      <td>Cloudy</td>\n",
       "      <td>1</td>\n",
       "      <td>...</td>\n",
       "      <td>14100.0</td>\n",
       "      <td>0.0</td>\n",
       "      <td>NaN</td>\n",
       "      <td>NaN</td>\n",
       "      <td>No</td>\n",
       "      <td>5220.0</td>\n",
       "      <td>Switch damaged or out of adjustment</td>\n",
       "      <td>10.0</td>\n",
       "      <td>0.0</td>\n",
       "      <td>1L</td>\n",
       "    </tr>\n",
       "    <tr>\n",
       "      <th>4</th>\n",
       "      <td>Illinois Central Railroad Company</td>\n",
       "      <td>Illinois Central Railroad Company</td>\n",
       "      <td>10/07/2017</td>\n",
       "      <td>Hwy-rail crossing</td>\n",
       "      <td>0.0</td>\n",
       "      <td>0.0</td>\n",
       "      <td>IL</td>\n",
       "      <td>ILLINOIS</td>\n",
       "      <td>Clear</td>\n",
       "      <td>1</td>\n",
       "      <td>...</td>\n",
       "      <td>3482.0</td>\n",
       "      <td>0.0</td>\n",
       "      <td>NaN</td>\n",
       "      <td>NaN</td>\n",
       "      <td>No</td>\n",
       "      <td>13000.0</td>\n",
       "      <td>Highway user deliberately disregarded crossing...</td>\n",
       "      <td>8.0</td>\n",
       "      <td>0.0</td>\n",
       "      <td>Cl</td>\n",
       "    </tr>\n",
       "    <tr>\n",
       "      <th>5</th>\n",
       "      <td>Norfolk Southern Railway Company</td>\n",
       "      <td>Norfolk Southern Railway Company</td>\n",
       "      <td>10/15/2017</td>\n",
       "      <td>Derailment</td>\n",
       "      <td>0.0</td>\n",
       "      <td>0.0</td>\n",
       "      <td>IL</td>\n",
       "      <td>ILLINOIS</td>\n",
       "      <td>Rain</td>\n",
       "      <td>1</td>\n",
       "      <td>...</td>\n",
       "      <td>6706.0</td>\n",
       "      <td>0.0</td>\n",
       "      <td>0.0</td>\n",
       "      <td>0.0</td>\n",
       "      <td>No</td>\n",
       "      <td>7418.0</td>\n",
       "      <td>Shoving movement, absence of man on or at lead...</td>\n",
       "      <td>2.0</td>\n",
       "      <td>0.0</td>\n",
       "      <td>CL</td>\n",
       "    </tr>\n",
       "    <tr>\n",
       "      <th>6</th>\n",
       "      <td>Union Pacific Railroad Company</td>\n",
       "      <td>Union Pacific Railroad Company</td>\n",
       "      <td>12/04/2017</td>\n",
       "      <td>Obstruction</td>\n",
       "      <td>0.0</td>\n",
       "      <td>0.0</td>\n",
       "      <td>IL</td>\n",
       "      <td>ILLINOIS</td>\n",
       "      <td>Cloudy</td>\n",
       "      <td>NaN</td>\n",
       "      <td>...</td>\n",
       "      <td>0.0</td>\n",
       "      <td>NaN</td>\n",
       "      <td>NaN</td>\n",
       "      <td>NaN</td>\n",
       "      <td>NaN</td>\n",
       "      <td>0.0</td>\n",
       "      <td>Object or equipment on or fouling track - othe...</td>\n",
       "      <td>NaN</td>\n",
       "      <td>0.0</td>\n",
       "      <td>CL</td>\n",
       "    </tr>\n",
       "    <tr>\n",
       "      <th>7</th>\n",
       "      <td>NORTHEAST ILLINOIS REGIONAL COMMUTER RAIL CORP...</td>\n",
       "      <td>NORTHEAST ILLINOIS REGIONAL COMMUTER RAIL CORP...</td>\n",
       "      <td>12/19/2016</td>\n",
       "      <td>Other (describe in narrative)</td>\n",
       "      <td>0.0</td>\n",
       "      <td>0.0</td>\n",
       "      <td>IL</td>\n",
       "      <td>ILLINOIS</td>\n",
       "      <td>Clear</td>\n",
       "      <td>NaN</td>\n",
       "      <td>...</td>\n",
       "      <td>0.0</td>\n",
       "      <td>NaN</td>\n",
       "      <td>NaN</td>\n",
       "      <td>NaN</td>\n",
       "      <td>NaN</td>\n",
       "      <td>0.0</td>\n",
       "      <td>Other miscellaneous causes (Provide detailed d...</td>\n",
       "      <td>NaN</td>\n",
       "      <td>0.0</td>\n",
       "      <td>No</td>\n",
       "    </tr>\n",
       "    <tr>\n",
       "      <th>8</th>\n",
       "      <td>Indiana Harbor Belt Railroad Company</td>\n",
       "      <td>Indiana Harbor Belt Railroad Company</td>\n",
       "      <td>03/30/2017</td>\n",
       "      <td>Derailment</td>\n",
       "      <td>0.0</td>\n",
       "      <td>0.0</td>\n",
       "      <td>IL</td>\n",
       "      <td>ILLINOIS</td>\n",
       "      <td>Rain</td>\n",
       "      <td>7</td>\n",
       "      <td>...</td>\n",
       "      <td>2399.0</td>\n",
       "      <td>0.0</td>\n",
       "      <td>NaN</td>\n",
       "      <td>NaN</td>\n",
       "      <td>NaN</td>\n",
       "      <td>390870.0</td>\n",
       "      <td>Broken Rail - Base [Desc.Changed-Refer to Curr...</td>\n",
       "      <td>2.0</td>\n",
       "      <td>0.0</td>\n",
       "      <td>Cl</td>\n",
       "    </tr>\n",
       "    <tr>\n",
       "      <th>9</th>\n",
       "      <td>BNSF Railway Company</td>\n",
       "      <td>BNSF Railway Company</td>\n",
       "      <td>04/06/2017</td>\n",
       "      <td>Derailment</td>\n",
       "      <td>0.0</td>\n",
       "      <td>0.0</td>\n",
       "      <td>IL</td>\n",
       "      <td>ILLINOIS</td>\n",
       "      <td>Clear</td>\n",
       "      <td>1</td>\n",
       "      <td>...</td>\n",
       "      <td>15760.0</td>\n",
       "      <td>0.0</td>\n",
       "      <td>0.0</td>\n",
       "      <td>0.0</td>\n",
       "      <td>No</td>\n",
       "      <td>750.0</td>\n",
       "      <td>Damaged flange or tread (build up)</td>\n",
       "      <td>9.0</td>\n",
       "      <td>0.0</td>\n",
       "      <td>CL</td>\n",
       "    </tr>\n",
       "  </tbody>\n",
       "</table>\n",
       "<p>10 rows × 22 columns</p>\n",
       "</div>"
      ],
      "text/plain": [
       "                             Reporting Railroad Name  \\\n",
       "0  Northern Indiana Commuter Transportation District   \n",
       "1  NORTHEAST ILLINOIS REGIONAL COMMUTER RAIL CORP...   \n",
       "2                                            Conrail   \n",
       "3                  Illinois Central Railroad Company   \n",
       "4                  Illinois Central Railroad Company   \n",
       "5                   Norfolk Southern Railway Company   \n",
       "6                     Union Pacific Railroad Company   \n",
       "7  NORTHEAST ILLINOIS REGIONAL COMMUTER RAIL CORP...   \n",
       "8               Indiana Harbor Belt Railroad Company   \n",
       "9                               BNSF Railway Company   \n",
       "\n",
       "                           Maintenance Railroad Name        Date  \\\n",
       "0  NORTHEAST ILLINOIS REGIONAL COMMUTER RAIL CORP...  06/06/2017   \n",
       "1  NORTHEAST ILLINOIS REGIONAL COMMUTER RAIL CORP...  06/06/2017   \n",
       "2                                            Conrail  04/06/1981   \n",
       "3                                   Cargill Elevator  01/11/2007   \n",
       "4                  Illinois Central Railroad Company  10/07/2017   \n",
       "5                   Norfolk Southern Railway Company  10/15/2017   \n",
       "6                     Union Pacific Railroad Company  12/04/2017   \n",
       "7  NORTHEAST ILLINOIS REGIONAL COMMUTER RAIL CORP...  12/19/2016   \n",
       "8               Indiana Harbor Belt Railroad Company  03/30/2017   \n",
       "9                               BNSF Railway Company  04/06/2017   \n",
       "\n",
       "                   Accident Type  Hazmat Released Cars  Persons Evacuated  \\\n",
       "0                     Derailment                   0.0              149.0   \n",
       "1                     Derailment                   0.0                0.0   \n",
       "2                 Side collision                   0.0                0.0   \n",
       "3                     Derailment                   0.0                0.0   \n",
       "4              Hwy-rail crossing                   0.0                0.0   \n",
       "5                     Derailment                   0.0                0.0   \n",
       "6                    Obstruction                   0.0                0.0   \n",
       "7  Other (describe in narrative)                   0.0                0.0   \n",
       "8                     Derailment                   0.0                0.0   \n",
       "9                     Derailment                   0.0                0.0   \n",
       "\n",
       "  State Abbreviation State Name Weather Condition Equipment Type Code  ...  \\\n",
       "0                 IL   ILLINOIS             Clear                   3  ...   \n",
       "1                 IL   ILLINOIS             Clear                 NaN  ...   \n",
       "2                 NY   NEW YORK              Snow                   5  ...   \n",
       "3                 LA  LOUISIANA            Cloudy                   1  ...   \n",
       "4                 IL   ILLINOIS             Clear                   1  ...   \n",
       "5                 IL   ILLINOIS              Rain                   1  ...   \n",
       "6                 IL   ILLINOIS            Cloudy                 NaN  ...   \n",
       "7                 IL   ILLINOIS             Clear                 NaN  ...   \n",
       "8                 IL   ILLINOIS              Rain                   7  ...   \n",
       "9                 IL   ILLINOIS             Clear                   1  ...   \n",
       "\n",
       "  Gross Tonnage  Remote Control Locomotive Code  Positive Alcohol Tests  \\\n",
       "0           0.0                             0.0                     0.0   \n",
       "1           0.0                             NaN                     NaN   \n",
       "2           0.0                             NaN                     0.0   \n",
       "3       14100.0                             0.0                     NaN   \n",
       "4        3482.0                             0.0                     NaN   \n",
       "5        6706.0                             0.0                     0.0   \n",
       "6           0.0                             NaN                     NaN   \n",
       "7           0.0                             NaN                     NaN   \n",
       "8        2399.0                             0.0                     NaN   \n",
       "9       15760.0                             0.0                     0.0   \n",
       "\n",
       "  Positive Drug Tests  Passengers Transported  Equipment Damage Cost  \\\n",
       "0                 0.0                     Yes                98627.0   \n",
       "1                 NaN                     NaN                    0.0   \n",
       "2                 0.0                      No                 4000.0   \n",
       "3                 NaN                      No                 5220.0   \n",
       "4                 NaN                      No                13000.0   \n",
       "5                 0.0                      No                 7418.0   \n",
       "6                 NaN                     NaN                    0.0   \n",
       "7                 NaN                     NaN                    0.0   \n",
       "8                 NaN                     NaN               390870.0   \n",
       "9                 0.0                      No                  750.0   \n",
       "\n",
       "                              Primary Accident Cause  Hours Engineers On Duty  \\\n",
       "0                        Switch point worn or broken                      1.0   \n",
       "1                        Switch point worn or broken                      NaN   \n",
       "2                                     Cars left foul                      NaN   \n",
       "3                Switch damaged or out of adjustment                     10.0   \n",
       "4  Highway user deliberately disregarded crossing...                      8.0   \n",
       "5  Shoving movement, absence of man on or at lead...                      2.0   \n",
       "6  Object or equipment on or fouling track - othe...                      NaN   \n",
       "7  Other miscellaneous causes (Provide detailed d...                      NaN   \n",
       "8  Broken Rail - Base [Desc.Changed-Refer to Curr...                      2.0   \n",
       "9                 Damaged flange or tread (build up)                      9.0   \n",
       "\n",
       "  Total Persons Killed  Class  \n",
       "0                  0.0     No  \n",
       "1                  0.0     No  \n",
       "2                  0.0     1L  \n",
       "3                  0.0     1L  \n",
       "4                  0.0     Cl  \n",
       "5                  0.0     CL  \n",
       "6                  0.0     CL  \n",
       "7                  0.0     No  \n",
       "8                  0.0     Cl  \n",
       "9                  0.0     CL  \n",
       "\n",
       "[10 rows x 22 columns]"
      ]
     },
     "execution_count": 37,
     "metadata": {},
     "output_type": "execute_result"
    }
   ],
   "source": [
    "df = pd.read_csv('assets/railroad_data.csv', low_memory=False)\n",
    "df.head(10)"
   ]
  },
  {
   "attachments": {},
   "cell_type": "markdown",
   "metadata": {},
   "source": [
    "### Drop columns that I don't need "
   ]
  },
  {
   "cell_type": "code",
   "execution_count": 38,
   "metadata": {},
   "outputs": [],
   "source": [
    "df.drop(['Class', 'Hours Engineers On Duty', \n",
    "         'Maintenance Railroad Name', \n",
    "         'Equipment Attended', \n",
    "         'Positive Drug Tests', \n",
    "         'Positive Alcohol Tests',\n",
    "         'Remote Control Locomotive Code',\n",
    "         'Primary Accident Cause'\n",
    "         ],  axis=1, inplace=True)\n"
   ]
  },
  {
   "attachments": {},
   "cell_type": "markdown",
   "metadata": {},
   "source": [
    "### Check DataFrame dtypes"
   ]
  },
  {
   "cell_type": "code",
   "execution_count": 39,
   "metadata": {},
   "outputs": [
    {
     "name": "stdout",
     "output_type": "stream",
     "text": [
      "<class 'pandas.core.frame.DataFrame'>\n",
      "RangeIndex: 215849 entries, 0 to 215848\n",
      "Data columns (total 14 columns):\n",
      " #   Column                   Non-Null Count   Dtype  \n",
      "---  ------                   --------------   -----  \n",
      " 0   Reporting Railroad Name  215846 non-null  object \n",
      " 1   Date                     215847 non-null  object \n",
      " 2   Accident Type            215847 non-null  object \n",
      " 3   Hazmat Released Cars     215848 non-null  float64\n",
      " 4   Persons Evacuated        215848 non-null  float64\n",
      " 5   State Abbreviation       215848 non-null  object \n",
      " 6   State Name               215848 non-null  object \n",
      " 7   Weather Condition        215454 non-null  object \n",
      " 8   Equipment Type Code      204640 non-null  object \n",
      " 9   Train Speed              215846 non-null  float64\n",
      " 10  Gross Tonnage            215848 non-null  float64\n",
      " 11  Passengers Transported   205176 non-null  object \n",
      " 12  Equipment Damage Cost    215848 non-null  float64\n",
      " 13  Total Persons Killed     215848 non-null  float64\n",
      "dtypes: float64(6), object(8)\n",
      "memory usage: 23.1+ MB\n"
     ]
    }
   ],
   "source": [
    "df.info()"
   ]
  },
  {
   "attachments": {},
   "cell_type": "markdown",
   "metadata": {},
   "source": [
    "### Rename columns"
   ]
  },
  {
   "cell_type": "code",
   "execution_count": 40,
   "metadata": {},
   "outputs": [],
   "source": [
    "df.rename(columns= {'Equipment Type Code': 'Equipment', \n",
    "'Weather Condition': 'Weather', \n",
    "'Train Speed': 'Speed', \n",
    "'State Abbreviation': 'State_Abv',\n",
    "'Reporting Railroad Name': 'Railroad', \n",
    "'State Name': 'State',\n",
    "'Equipment Damage Cost': 'Damage',\n",
    "'Primary Accident Cause': 'Cause',\n",
    "'Passengers Transported': 'Passengers',\n",
    "'Accident Type': 'Accident_Type',\n",
    "'Persons Evacuated': 'Evacuated',\n",
    "'Positive Alcohol Tests': 'Alcohol_Test',\n",
    "'Positive Drug Tests': 'Drug_Test',\n",
    "'Hazmat Released Cars': 'Spill_Cars',\n",
    "'Total Persons Killed': 'Killed',\n",
    "'Gross Tonnage': 'Tonnage'}, inplace=True)"
   ]
  },
  {
   "attachments": {},
   "cell_type": "markdown",
   "metadata": {},
   "source": [
    "### Dropping passenger rail incidents"
   ]
  },
  {
   "cell_type": "code",
   "execution_count": 41,
   "metadata": {},
   "outputs": [],
   "source": [
    "passenger_trians = [2, 3, 'B', 'C', 'EMU', 'DMU']\n",
    "\n",
    "df = df[df.Equipment.isin(passenger_trians) == False]"
   ]
  },
  {
   "cell_type": "code",
   "execution_count": 42,
   "metadata": {},
   "outputs": [],
   "source": [
    "df.drop(df.loc[df['Passengers']=='Yes'].index, inplace=True)"
   ]
  },
  {
   "attachments": {},
   "cell_type": "markdown",
   "metadata": {},
   "source": [
    "### Only needed Equipment and Passengers to drop all but freight"
   ]
  },
  {
   "cell_type": "code",
   "execution_count": 43,
   "metadata": {},
   "outputs": [],
   "source": [
    "df.drop('Equipment', axis=1, inplace=True)\n",
    "df.drop('Passengers', axis=1, inplace=True)        "
   ]
  },
  {
   "attachments": {},
   "cell_type": "markdown",
   "metadata": {},
   "source": [
    "### Any rows with NaN for railroad name or date is a error"
   ]
  },
  {
   "cell_type": "code",
   "execution_count": 44,
   "metadata": {},
   "outputs": [],
   "source": [
    "df.dropna(subset=['Railroad', 'Date'], inplace=True)"
   ]
  },
  {
   "attachments": {},
   "cell_type": "markdown",
   "metadata": {},
   "source": [
    "### Fill NaN with usable values"
   ]
  },
  {
   "cell_type": "code",
   "execution_count": 45,
   "metadata": {},
   "outputs": [],
   "source": [
    "df.Weather = df.Weather.fillna('Unknown')\n",
    "df.Accident_Type = df.Accident_Type.fillna('Unknown')\n",
    "df.Speed = df.Speed.fillna(0)"
   ]
  },
  {
   "attachments": {},
   "cell_type": "markdown",
   "metadata": {},
   "source": [
    "### Change data types"
   ]
  },
  {
   "cell_type": "code",
   "execution_count": 46,
   "metadata": {},
   "outputs": [
    {
     "name": "stdout",
     "output_type": "stream",
     "text": [
      "<class 'pandas.core.frame.DataFrame'>\n",
      "Int64Index: 208704 entries, 1 to 215848\n",
      "Data columns (total 12 columns):\n",
      " #   Column         Non-Null Count   Dtype         \n",
      "---  ------         --------------   -----         \n",
      " 0   Railroad       208704 non-null  object        \n",
      " 1   Date           208704 non-null  datetime64[ns]\n",
      " 2   Accident_Type  208704 non-null  object        \n",
      " 3   Spill_Cars     208704 non-null  Int64         \n",
      " 4   Evacuated      208704 non-null  Int64         \n",
      " 5   State_Abv      208704 non-null  object        \n",
      " 6   State          208704 non-null  object        \n",
      " 7   Weather        208704 non-null  object        \n",
      " 8   Speed          208704 non-null  Int64         \n",
      " 9   Tonnage        208704 non-null  Int64         \n",
      " 10  Damage         208704 non-null  Int64         \n",
      " 11  Killed         208704 non-null  Int64         \n",
      "dtypes: Int64(6), datetime64[ns](1), object(5)\n",
      "memory usage: 21.9+ MB\n"
     ]
    }
   ],
   "source": [
    "df = df.astype({'Tonnage': 'Int64', 'Damage': 'Int64', \n",
    "'Killed': 'Int64', 'Speed': 'Int64',\n",
    "'Spill_Cars': 'Int64',\n",
    "'Evacuated': 'Int64'})\n",
    "df['Date'] = df['Date'].astype('datetime64[ns]')\n",
    "df.info()\n"
   ]
  },
  {
   "attachments": {},
   "cell_type": "markdown",
   "metadata": {},
   "source": [
    "### Dropping the one canadian owned railroad"
   ]
  },
  {
   "cell_type": "code",
   "execution_count": 47,
   "metadata": {},
   "outputs": [],
   "source": [
    "df = df[~df['Railroad'].str.contains('Illinois Central Gulf Railroad Company')]"
   ]
  },
  {
   "attachments": {},
   "cell_type": "markdown",
   "metadata": {},
   "source": [
    "### Dropping all but the major class 1 railroads"
   ]
  },
  {
   "cell_type": "code",
   "execution_count": 48,
   "metadata": {},
   "outputs": [
    {
     "data": {
      "text/plain": [
       "Union Pacific Railroad Company                 30701\n",
       "BNSF Railway Company                           15547\n",
       "CSX Transportation                             13477\n",
       "Burlington Northern Railroad Company           13327\n",
       "Conrail                                        12487\n",
       "Southern Pacific Transportation Company         8896\n",
       "Norfolk Southern Railway Company                8452\n",
       "Chicago And North Western Railway Company       7743\n",
       "Atchison, Topeka & Santa Fe Railway Company     5398\n",
       "Louisville And Nashville Railroad Company       4141\n",
       "Name: Railroad, dtype: int64"
      ]
     },
     "execution_count": 48,
     "metadata": {},
     "output_type": "execute_result"
    }
   ],
   "source": [
    "value_counts = df['Railroad'].value_counts()\n",
    "to_remove = value_counts[value_counts <= 4120].index\n",
    "df = df[~df.Railroad.isin(to_remove)]\n",
    "df.Railroad.value_counts()"
   ]
  },
  {
   "attachments": {},
   "cell_type": "markdown",
   "metadata": {},
   "source": [
    "### Correcting the railroad names."
   ]
  },
  {
   "cell_type": "code",
   "execution_count": 49,
   "metadata": {},
   "outputs": [],
   "source": [
    "replace_dict = {'BNSF Railway Company': 'BNSF',\n",
    "                'Burlington Northern Railroad Company': 'BNSF',\n",
    "                'Conrail': 'Norfolk Southern',\n",
    "                'Norfolk Southern Railway Company': 'Norfolk Southern',\n",
    "                'Union Pacific Railroad Company': 'Union Pacific',\n",
    "                'Southern Pacific Transportation Company': 'Union Pacific',\n",
    "                'Atchison, Topeka & Santa Fe Railway Company': 'BNSF',\n",
    "                'Chicago And North Western Railway Company': 'Union Pacific',\n",
    "                'CSX Transportation': 'CSX',\n",
    "                'Louisville And Nashville Railroad Company': 'CSX'}\n",
    "df['Railroad'] = df['Railroad'].replace(replace_dict)"
   ]
  },
  {
   "attachments": {},
   "cell_type": "markdown",
   "metadata": {},
   "source": [
    "### Checking that the rename worked"
   ]
  },
  {
   "cell_type": "code",
   "execution_count": 50,
   "metadata": {},
   "outputs": [
    {
     "data": {
      "text/plain": [
       "Union Pacific       47340\n",
       "BNSF                34272\n",
       "Norfolk Southern    20939\n",
       "CSX                 17618\n",
       "Name: Railroad, dtype: int64"
      ]
     },
     "execution_count": 50,
     "metadata": {},
     "output_type": "execute_result"
    }
   ],
   "source": [
    "\n",
    "value_counts = df['Railroad'].value_counts()\n",
    "\n",
    "df.Railroad.value_counts()"
   ]
  },
  {
   "attachments": {},
   "cell_type": "markdown",
   "metadata": {},
   "source": [
    "### Sorting by date"
   ]
  },
  {
   "cell_type": "code",
   "execution_count": 51,
   "metadata": {},
   "outputs": [],
   "source": [
    "df.sort_values(by=['Date'], inplace=True)"
   ]
  },
  {
   "attachments": {},
   "cell_type": "markdown",
   "metadata": {},
   "source": [
    "### Reset index"
   ]
  },
  {
   "cell_type": "code",
   "execution_count": 52,
   "metadata": {},
   "outputs": [],
   "source": [
    "df = df.reset_index(drop=True)"
   ]
  },
  {
   "attachments": {},
   "cell_type": "markdown",
   "metadata": {},
   "source": [
    "### Calling my shared_count function to see that Kentucky has a total of 1928 derailments in this dataframe"
   ]
  },
  {
   "cell_type": "code",
   "execution_count": 53,
   "metadata": {},
   "outputs": [
    {
     "data": {
      "text/plain": [
       "1928"
      ]
     },
     "execution_count": 53,
     "metadata": {},
     "output_type": "execute_result"
    }
   ],
   "source": [
    "shared_count = count_shared_values(df, 'Accident_Type', 'State', 'Derailment', 'KENTUCKY')\n",
    "shared_count"
   ]
  },
  {
   "attachments": {},
   "cell_type": "markdown",
   "metadata": {},
   "source": [
    "## CSX has had 10956 total derailments"
   ]
  },
  {
   "cell_type": "code",
   "execution_count": 54,
   "metadata": {},
   "outputs": [
    {
     "data": {
      "text/plain": [
       "10956"
      ]
     },
     "execution_count": 54,
     "metadata": {},
     "output_type": "execute_result"
    }
   ],
   "source": [
    "shared_count = count_shared_values(df, 'Railroad', 'Accident_Type', 'CSX', 'Derailment')\n",
    "shared_count"
   ]
  },
  {
   "attachments": {},
   "cell_type": "markdown",
   "metadata": {},
   "source": [
    "## Union Pacific has 30733 total derailments"
   ]
  },
  {
   "cell_type": "code",
   "execution_count": 55,
   "metadata": {},
   "outputs": [
    {
     "data": {
      "text/plain": [
       "30733"
      ]
     },
     "execution_count": 55,
     "metadata": {},
     "output_type": "execute_result"
    }
   ],
   "source": [
    "shared_count = count_shared_values(df, 'Railroad', 'Accident_Type', 'Union Pacific', 'Derailment')\n",
    "shared_count"
   ]
  },
  {
   "attachments": {},
   "cell_type": "markdown",
   "metadata": {},
   "source": [
    "## BNSF has 21488 total derailments"
   ]
  },
  {
   "cell_type": "code",
   "execution_count": 56,
   "metadata": {},
   "outputs": [
    {
     "data": {
      "text/plain": [
       "21488"
      ]
     },
     "execution_count": 56,
     "metadata": {},
     "output_type": "execute_result"
    }
   ],
   "source": [
    "shared_count = count_shared_values(df, 'Railroad', 'Accident_Type', 'BNSF', 'Derailment')\n",
    "shared_count"
   ]
  },
  {
   "attachments": {},
   "cell_type": "markdown",
   "metadata": {},
   "source": [
    "## Norfolk Southern has 13617 total derailments"
   ]
  },
  {
   "cell_type": "code",
   "execution_count": 57,
   "metadata": {},
   "outputs": [
    {
     "data": {
      "text/plain": [
       "13617"
      ]
     },
     "execution_count": 57,
     "metadata": {},
     "output_type": "execute_result"
    }
   ],
   "source": [
    "shared_count = count_shared_values(df, 'Railroad', 'Accident_Type', 'Norfolk Southern', 'Derailment')\n",
    "shared_count"
   ]
  },
  {
   "cell_type": "code",
   "execution_count": 58,
   "metadata": {},
   "outputs": [
    {
     "data": {
      "text/html": [
       "<div>\n",
       "<style scoped>\n",
       "    .dataframe tbody tr th:only-of-type {\n",
       "        vertical-align: middle;\n",
       "    }\n",
       "\n",
       "    .dataframe tbody tr th {\n",
       "        vertical-align: top;\n",
       "    }\n",
       "\n",
       "    .dataframe thead th {\n",
       "        text-align: right;\n",
       "    }\n",
       "</style>\n",
       "<table border=\"1\" class=\"dataframe\">\n",
       "  <thead>\n",
       "    <tr style=\"text-align: right;\">\n",
       "      <th></th>\n",
       "      <th>Railroad</th>\n",
       "      <th>Date</th>\n",
       "      <th>Accident_Type</th>\n",
       "      <th>Spill_Cars</th>\n",
       "      <th>Evacuated</th>\n",
       "      <th>State_Abv</th>\n",
       "      <th>State</th>\n",
       "      <th>Weather</th>\n",
       "      <th>Speed</th>\n",
       "      <th>Tonnage</th>\n",
       "      <th>Damage</th>\n",
       "      <th>Killed</th>\n",
       "    </tr>\n",
       "  </thead>\n",
       "  <tbody>\n",
       "    <tr>\n",
       "      <th>0</th>\n",
       "      <td>BNSF</td>\n",
       "      <td>1975-01-01</td>\n",
       "      <td>Derailment</td>\n",
       "      <td>0</td>\n",
       "      <td>0</td>\n",
       "      <td>CA</td>\n",
       "      <td>CALIFORNIA</td>\n",
       "      <td>Cloudy</td>\n",
       "      <td>0</td>\n",
       "      <td>0</td>\n",
       "      <td>1800</td>\n",
       "      <td>0</td>\n",
       "    </tr>\n",
       "    <tr>\n",
       "      <th>1</th>\n",
       "      <td>BNSF</td>\n",
       "      <td>1975-01-01</td>\n",
       "      <td>Derailment</td>\n",
       "      <td>0</td>\n",
       "      <td>0</td>\n",
       "      <td>AZ</td>\n",
       "      <td>ARIZONA</td>\n",
       "      <td>Cloudy</td>\n",
       "      <td>12</td>\n",
       "      <td>3826</td>\n",
       "      <td>5000</td>\n",
       "      <td>0</td>\n",
       "    </tr>\n",
       "    <tr>\n",
       "      <th>2</th>\n",
       "      <td>Union Pacific</td>\n",
       "      <td>1975-01-01</td>\n",
       "      <td>Derailment</td>\n",
       "      <td>0</td>\n",
       "      <td>0</td>\n",
       "      <td>IL</td>\n",
       "      <td>ILLINOIS</td>\n",
       "      <td>Clear</td>\n",
       "      <td>5</td>\n",
       "      <td>0</td>\n",
       "      <td>1400</td>\n",
       "      <td>0</td>\n",
       "    </tr>\n",
       "    <tr>\n",
       "      <th>3</th>\n",
       "      <td>Union Pacific</td>\n",
       "      <td>1975-01-02</td>\n",
       "      <td>Derailment</td>\n",
       "      <td>0</td>\n",
       "      <td>0</td>\n",
       "      <td>KS</td>\n",
       "      <td>KANSAS</td>\n",
       "      <td>Snow</td>\n",
       "      <td>45</td>\n",
       "      <td>6843</td>\n",
       "      <td>400</td>\n",
       "      <td>0</td>\n",
       "    </tr>\n",
       "    <tr>\n",
       "      <th>4</th>\n",
       "      <td>Union Pacific</td>\n",
       "      <td>1975-01-02</td>\n",
       "      <td>Derailment</td>\n",
       "      <td>0</td>\n",
       "      <td>0</td>\n",
       "      <td>ID</td>\n",
       "      <td>IDAHO</td>\n",
       "      <td>Cloudy</td>\n",
       "      <td>55</td>\n",
       "      <td>6487</td>\n",
       "      <td>4800</td>\n",
       "      <td>0</td>\n",
       "    </tr>\n",
       "    <tr>\n",
       "      <th>...</th>\n",
       "      <td>...</td>\n",
       "      <td>...</td>\n",
       "      <td>...</td>\n",
       "      <td>...</td>\n",
       "      <td>...</td>\n",
       "      <td>...</td>\n",
       "      <td>...</td>\n",
       "      <td>...</td>\n",
       "      <td>...</td>\n",
       "      <td>...</td>\n",
       "      <td>...</td>\n",
       "      <td>...</td>\n",
       "    </tr>\n",
       "    <tr>\n",
       "      <th>120164</th>\n",
       "      <td>BNSF</td>\n",
       "      <td>2022-11-29</td>\n",
       "      <td>Derailment</td>\n",
       "      <td>0</td>\n",
       "      <td>0</td>\n",
       "      <td>AZ</td>\n",
       "      <td>ARIZONA</td>\n",
       "      <td>Clear</td>\n",
       "      <td>8</td>\n",
       "      <td>16297</td>\n",
       "      <td>91079</td>\n",
       "      <td>0</td>\n",
       "    </tr>\n",
       "    <tr>\n",
       "      <th>120165</th>\n",
       "      <td>CSX</td>\n",
       "      <td>2022-11-29</td>\n",
       "      <td>Side collision</td>\n",
       "      <td>0</td>\n",
       "      <td>0</td>\n",
       "      <td>NY</td>\n",
       "      <td>NEW YORK</td>\n",
       "      <td>Cloudy</td>\n",
       "      <td>5</td>\n",
       "      <td>0</td>\n",
       "      <td>34800</td>\n",
       "      <td>0</td>\n",
       "    </tr>\n",
       "    <tr>\n",
       "      <th>120166</th>\n",
       "      <td>Union Pacific</td>\n",
       "      <td>2022-11-29</td>\n",
       "      <td>Derailment</td>\n",
       "      <td>0</td>\n",
       "      <td>0</td>\n",
       "      <td>LA</td>\n",
       "      <td>LOUISIANA</td>\n",
       "      <td>Cloudy</td>\n",
       "      <td>5</td>\n",
       "      <td>7811</td>\n",
       "      <td>14571</td>\n",
       "      <td>0</td>\n",
       "    </tr>\n",
       "    <tr>\n",
       "      <th>120167</th>\n",
       "      <td>Norfolk Southern</td>\n",
       "      <td>2022-11-30</td>\n",
       "      <td>Other (describe in narrative)</td>\n",
       "      <td>0</td>\n",
       "      <td>0</td>\n",
       "      <td>TN</td>\n",
       "      <td>TENNESSEE</td>\n",
       "      <td>Rain</td>\n",
       "      <td>5</td>\n",
       "      <td>0</td>\n",
       "      <td>15969</td>\n",
       "      <td>0</td>\n",
       "    </tr>\n",
       "    <tr>\n",
       "      <th>120168</th>\n",
       "      <td>BNSF</td>\n",
       "      <td>2022-11-30</td>\n",
       "      <td>Derailment</td>\n",
       "      <td>0</td>\n",
       "      <td>0</td>\n",
       "      <td>TX</td>\n",
       "      <td>TEXAS</td>\n",
       "      <td>Clear</td>\n",
       "      <td>15</td>\n",
       "      <td>17451</td>\n",
       "      <td>322882</td>\n",
       "      <td>0</td>\n",
       "    </tr>\n",
       "  </tbody>\n",
       "</table>\n",
       "<p>120169 rows × 12 columns</p>\n",
       "</div>"
      ],
      "text/plain": [
       "                Railroad       Date                  Accident_Type  \\\n",
       "0                   BNSF 1975-01-01                     Derailment   \n",
       "1                   BNSF 1975-01-01                     Derailment   \n",
       "2          Union Pacific 1975-01-01                     Derailment   \n",
       "3          Union Pacific 1975-01-02                     Derailment   \n",
       "4          Union Pacific 1975-01-02                     Derailment   \n",
       "...                  ...        ...                            ...   \n",
       "120164              BNSF 2022-11-29                     Derailment   \n",
       "120165               CSX 2022-11-29                 Side collision   \n",
       "120166     Union Pacific 2022-11-29                     Derailment   \n",
       "120167  Norfolk Southern 2022-11-30  Other (describe in narrative)   \n",
       "120168              BNSF 2022-11-30                     Derailment   \n",
       "\n",
       "        Spill_Cars  Evacuated State_Abv       State Weather  Speed  Tonnage  \\\n",
       "0                0          0        CA  CALIFORNIA  Cloudy      0        0   \n",
       "1                0          0        AZ     ARIZONA  Cloudy     12     3826   \n",
       "2                0          0        IL    ILLINOIS   Clear      5        0   \n",
       "3                0          0        KS      KANSAS    Snow     45     6843   \n",
       "4                0          0        ID       IDAHO  Cloudy     55     6487   \n",
       "...            ...        ...       ...         ...     ...    ...      ...   \n",
       "120164           0          0        AZ     ARIZONA   Clear      8    16297   \n",
       "120165           0          0        NY    NEW YORK  Cloudy      5        0   \n",
       "120166           0          0        LA   LOUISIANA  Cloudy      5     7811   \n",
       "120167           0          0        TN   TENNESSEE    Rain      5        0   \n",
       "120168           0          0        TX       TEXAS   Clear     15    17451   \n",
       "\n",
       "        Damage  Killed  \n",
       "0         1800       0  \n",
       "1         5000       0  \n",
       "2         1400       0  \n",
       "3          400       0  \n",
       "4         4800       0  \n",
       "...        ...     ...  \n",
       "120164   91079       0  \n",
       "120165   34800       0  \n",
       "120166   14571       0  \n",
       "120167   15969       0  \n",
       "120168  322882       0  \n",
       "\n",
       "[120169 rows x 12 columns]"
      ]
     },
     "execution_count": 58,
     "metadata": {},
     "output_type": "execute_result"
    }
   ],
   "source": [
    "df"
   ]
  },
  {
   "cell_type": "code",
   "execution_count": 59,
   "metadata": {},
   "outputs": [
    {
     "data": {
      "text/html": [
       "<div>\n",
       "<style scoped>\n",
       "    .dataframe tbody tr th:only-of-type {\n",
       "        vertical-align: middle;\n",
       "    }\n",
       "\n",
       "    .dataframe tbody tr th {\n",
       "        vertical-align: top;\n",
       "    }\n",
       "\n",
       "    .dataframe thead th {\n",
       "        text-align: right;\n",
       "    }\n",
       "</style>\n",
       "<table border=\"1\" class=\"dataframe\">\n",
       "  <thead>\n",
       "    <tr style=\"text-align: right;\">\n",
       "      <th></th>\n",
       "      <th>Spill_Cars</th>\n",
       "      <th>Evacuated</th>\n",
       "      <th>Speed</th>\n",
       "      <th>Tonnage</th>\n",
       "      <th>Damage</th>\n",
       "      <th>Killed</th>\n",
       "    </tr>\n",
       "  </thead>\n",
       "  <tbody>\n",
       "    <tr>\n",
       "      <th>count</th>\n",
       "      <td>120169.0</td>\n",
       "      <td>120169.0</td>\n",
       "      <td>120169.0</td>\n",
       "      <td>120169.0</td>\n",
       "      <td>120169.0</td>\n",
       "      <td>120169.0</td>\n",
       "    </tr>\n",
       "    <tr>\n",
       "      <th>mean</th>\n",
       "      <td>0.016801</td>\n",
       "      <td>2.037988</td>\n",
       "      <td>11.024291</td>\n",
       "      <td>3527.977956</td>\n",
       "      <td>46437.238814</td>\n",
       "      <td>0.01671</td>\n",
       "    </tr>\n",
       "    <tr>\n",
       "      <th>std</th>\n",
       "      <td>0.26469</td>\n",
       "      <td>165.373199</td>\n",
       "      <td>13.851212</td>\n",
       "      <td>4523.580115</td>\n",
       "      <td>187276.393362</td>\n",
       "      <td>0.241569</td>\n",
       "    </tr>\n",
       "    <tr>\n",
       "      <th>min</th>\n",
       "      <td>0.0</td>\n",
       "      <td>0.0</td>\n",
       "      <td>0.0</td>\n",
       "      <td>0.0</td>\n",
       "      <td>0.0</td>\n",
       "      <td>0.0</td>\n",
       "    </tr>\n",
       "    <tr>\n",
       "      <th>25%</th>\n",
       "      <td>0.0</td>\n",
       "      <td>0.0</td>\n",
       "      <td>3.0</td>\n",
       "      <td>0.0</td>\n",
       "      <td>2284.0</td>\n",
       "      <td>0.0</td>\n",
       "    </tr>\n",
       "    <tr>\n",
       "      <th>50%</th>\n",
       "      <td>0.0</td>\n",
       "      <td>0.0</td>\n",
       "      <td>5.0</td>\n",
       "      <td>2000.0</td>\n",
       "      <td>8188.0</td>\n",
       "      <td>0.0</td>\n",
       "    </tr>\n",
       "    <tr>\n",
       "      <th>75%</th>\n",
       "      <td>0.0</td>\n",
       "      <td>0.0</td>\n",
       "      <td>10.0</td>\n",
       "      <td>5633.0</td>\n",
       "      <td>22925.0</td>\n",
       "      <td>0.0</td>\n",
       "    </tr>\n",
       "    <tr>\n",
       "      <th>max</th>\n",
       "      <td>32.0</td>\n",
       "      <td>50000.0</td>\n",
       "      <td>100.0</td>\n",
       "      <td>97000.0</td>\n",
       "      <td>9717620.0</td>\n",
       "      <td>47.0</td>\n",
       "    </tr>\n",
       "  </tbody>\n",
       "</table>\n",
       "</div>"
      ],
      "text/plain": [
       "       Spill_Cars   Evacuated      Speed      Tonnage         Damage    Killed\n",
       "count    120169.0    120169.0   120169.0     120169.0       120169.0  120169.0\n",
       "mean     0.016801    2.037988  11.024291  3527.977956   46437.238814   0.01671\n",
       "std       0.26469  165.373199  13.851212  4523.580115  187276.393362  0.241569\n",
       "min           0.0         0.0        0.0          0.0            0.0       0.0\n",
       "25%           0.0         0.0        3.0          0.0         2284.0       0.0\n",
       "50%           0.0         0.0        5.0       2000.0         8188.0       0.0\n",
       "75%           0.0         0.0       10.0       5633.0        22925.0       0.0\n",
       "max          32.0     50000.0      100.0      97000.0      9717620.0      47.0"
      ]
     },
     "metadata": {},
     "output_type": "display_data"
    }
   ],
   "source": [
    "display(df.describe())"
   ]
  },
  {
   "cell_type": "code",
   "execution_count": 60,
   "metadata": {},
   "outputs": [
    {
     "data": {
      "text/plain": [
       "Derailment                       76794\n",
       "Other impacts                    13320\n",
       "Side collision                   12113\n",
       "Hwy-rail crossing                 5818\n",
       "Rear end collision                2613\n",
       "Other (describe in narrative)     2195\n",
       "Raking collision                  2091\n",
       "Obstruction                       2041\n",
       "Fire/violent rupture              1602\n",
       "Head on collision                 1121\n",
       "Broken train collision             369\n",
       "RR grade crossing                   52\n",
       "Explosion-detonation                40\n",
       "Name: Accident_Type, dtype: int64"
      ]
     },
     "execution_count": 60,
     "metadata": {},
     "output_type": "execute_result"
    }
   ],
   "source": [
    "value_counts = df['Accident_Type'].value_counts()\n",
    "\n",
    "df.Accident_Type.value_counts()"
   ]
  },
  {
   "attachments": {},
   "cell_type": "markdown",
   "metadata": {},
   "source": [
    "### creating a series with groupby"
   ]
  },
  {
   "cell_type": "code",
   "execution_count": 61,
   "metadata": {},
   "outputs": [],
   "source": [
    "evac_year = df.groupby(df.Date.dt.year)['Evacuated'].sum()"
   ]
  },
  {
   "attachments": {},
   "cell_type": "markdown",
   "metadata": {},
   "source": [
    "### converted series to a dataframe"
   ]
  },
  {
   "cell_type": "code",
   "execution_count": 62,
   "metadata": {},
   "outputs": [],
   "source": [
    "evac_df = evac_year.reset_index()"
   ]
  },
  {
   "attachments": {},
   "cell_type": "markdown",
   "metadata": {},
   "source": [
    "### Plotting using the evac_df I created"
   ]
  },
  {
   "cell_type": "code",
   "execution_count": 63,
   "metadata": {},
   "outputs": [
    {
     "data": {
      "image/png": "[encoded data removed]",
      "text/plain": [
       "<Figure size 640x480 with 1 Axes>"
      ]
     },
     "metadata": {},
     "output_type": "display_data"
    }
   ],
   "source": [
    "colors = ['green','blue','purple','brown','teal', 'tab:blue', 'tab:olive']\n",
    "plt.bar(evac_df['Date'], evac_df['Evacuated'], color='tab:blue', width=1)\n",
    "plt.style.use('seaborn-v0_8-muted')\n",
    "plt.title('Number of people evacuated per year', fontsize=17)\n",
    "plt.xlabel('Year', fontsize=14)\n",
    "plt.ylabel('Evacuated', fontsize=14)\n",
    "\n",
    "plt.show()"
   ]
  },
  {
   "attachments": {},
   "cell_type": "markdown",
   "metadata": {},
   "source": [
    "### Creating another dataframe for people killed per year"
   ]
  },
  {
   "cell_type": "code",
   "execution_count": 64,
   "metadata": {},
   "outputs": [],
   "source": [
    "rrgb = df.groupby(df.Date.dt.year)['Killed'].sum()"
   ]
  },
  {
   "cell_type": "code",
   "execution_count": 65,
   "metadata": {},
   "outputs": [],
   "source": [
    "killed_df = rrgb.reset_index()"
   ]
  },
  {
   "cell_type": "code",
   "execution_count": 66,
   "metadata": {},
   "outputs": [
    {
     "data": {
      "image/png": "[encoded data removed]",
      "text/plain": [
       "<Figure size 640x480 with 1 Axes>"
      ]
     },
     "metadata": {},
     "output_type": "display_data"
    }
   ],
   "source": [
    "plt.bar(killed_df['Date'], killed_df['Killed'], color='teal', width=1)\n",
    "plt.style.use('seaborn-v0_8-muted')\n",
    "plt.title('Number of people Killed per year', fontsize=17)\n",
    "plt.xlabel('Year', fontsize=14)\n",
    "plt.ylabel('People Killed', fontsize=14)\n",
    "\n",
    "plt.show()"
   ]
  },
  {
   "attachments": {},
   "cell_type": "markdown",
   "metadata": {},
   "source": [
    "### Reading in my by state derailment count csv"
   ]
  },
  {
   "cell_type": "code",
   "execution_count": 67,
   "metadata": {},
   "outputs": [],
   "source": [
    "df2 = pd.read_csv('assets/rr_derailment_map.csv')\n",
    "df2.drop(['Unnamed: 0'], axis=1, inplace=True)"
   ]
  },
  {
   "attachments": {},
   "cell_type": "markdown",
   "metadata": {},
   "source": [
    "### Plotting the count csv to a choropleth"
   ]
  },
  {
   "cell_type": "code",
   "execution_count": 68,
   "metadata": {},
   "outputs": [
    {
     "data": {
      "image/png": "[encoded data removed]"
     },
     "metadata": {},
     "output_type": "display_data"
    }
   ],
   "source": [
    "import plotly.io as pio \n",
    "fig = px.choropleth(df2,\n",
    "                    locations='State', \n",
    "                    locationmode=\"USA-states\", \n",
    "                    scope=\"usa\",\n",
    "                    color='Total Derailments',\n",
    "                    color_continuous_scale=\"Viridis_r\", \n",
    "                    \n",
    "                    )\n",
    "fig.update_layout(\n",
    "      title_text = 'Derailments by State',\n",
    "      title_font_family=\"Times New Roman\",\n",
    "      title_font_size = 33,\n",
    "      title_font_color=\"black\", \n",
    "      title_x=0.49, \n",
    "         )\n",
    "fig.show(\"png\")\n",
    "#fig.show()"
   ]
  },
  {
   "cell_type": "code",
   "execution_count": 70,
   "metadata": {},
   "outputs": [
    {
     "data": {
      "image/png": "[encoded data removed]",
      "text/plain": [
       "<Figure size 640x480 with 1 Axes>"
      ]
     },
     "metadata": {},
     "output_type": "display_data"
    }
   ],
   "source": [
    "railroad_derailments = {'Union Pacific': 30733, 'BNSF': 21488, 'Norfolk Southern': 13617, 'CSX': 10956,  }\n",
    "Railroad = list(railroad_derailments.keys())\n",
    "Derailments = list(railroad_derailments.values())\n",
    "\n",
    "plt.bar(range(len(railroad_derailments)), Derailments, tick_label=Railroad)\n",
    "plt.show()"
   ]
  }
 ],
 "metadata": {
  "kernelspec": {
   "display_name": "Python 3",
   "language": "python",
   "name": "python3"
  },
  "language_info": {
   "codemirror_mode": {
    "name": "ipython",
    "version": 3
   },
   "file_extension": ".py",
   "mimetype": "text/x-python",
   "name": "python",
   "nbconvert_exporter": "python",
   "pygments_lexer": "ipython3",
   "version": "3.11.2"
  },
  "orig_nbformat": 4,
  "vscode": {
   "interpreter": {
    "hash": "7ee2502c6956ed09249b93c0e9ccf008e42e5a7ae794ae8c7a7fdf5dd0089ba9"
   }
  }
 },
 "nbformat": 4,
 "nbformat_minor": 2
}
