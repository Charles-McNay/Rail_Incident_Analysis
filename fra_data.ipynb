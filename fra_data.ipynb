{
 "cells": [
  {
   "attachments": {},
   "cell_type": "markdown",
   "metadata": {},
   "source": [
    "### import needed libraries"
   ]
  },
  {
   "cell_type": "code",
   "execution_count": 1,
   "metadata": {},
   "outputs": [],
   "source": [
    "import seaborn as sns\n",
    "import matplotlib.pyplot as plt\n",
    "#from matplotlib import pyplot as plt\n",
    "import pandas as pd\n",
    "import numpy as np\n"
   ]
  },
  {
   "attachments": {},
   "cell_type": "markdown",
   "metadata": {},
   "source": [
    "### function for counting rows with shared values"
   ]
  },
  {
   "cell_type": "code",
   "execution_count": 2,
   "metadata": {},
   "outputs": [],
   "source": [
    "def count_shared_values(df, col1, col2, val1, val2):\n",
    "    shared_count = len(df[(df[col1] == val1) & (df[col2] == val2)])\n",
    "    return shared_count\n"
   ]
  },
  {
   "attachments": {},
   "cell_type": "markdown",
   "metadata": {},
   "source": [
    "### read in .csv file"
   ]
  },
  {
   "cell_type": "code",
   "execution_count": 3,
   "metadata": {},
   "outputs": [
    {
     "data": {
      "text/html": [
       "<div>\n",
       "<style scoped>\n",
       "    .dataframe tbody tr th:only-of-type {\n",
       "        vertical-align: middle;\n",
       "    }\n",
       "\n",
       "    .dataframe tbody tr th {\n",
       "        vertical-align: top;\n",
       "    }\n",
       "\n",
       "    .dataframe thead th {\n",
       "        text-align: right;\n",
       "    }\n",
       "</style>\n",
       "<table border=\"1\" class=\"dataframe\">\n",
       "  <thead>\n",
       "    <tr style=\"text-align: right;\">\n",
       "      <th></th>\n",
       "      <th>Reporting Railroad Name</th>\n",
       "      <th>Maintenance Railroad Name</th>\n",
       "      <th>Date</th>\n",
       "      <th>Accident Type</th>\n",
       "      <th>Hazmat Released Cars</th>\n",
       "      <th>Persons Evacuated</th>\n",
       "      <th>State Name</th>\n",
       "      <th>Weather Condition</th>\n",
       "      <th>Train Speed</th>\n",
       "      <th>Gross Tonnage</th>\n",
       "      <th>...</th>\n",
       "      <th>Remote Control Locomotive Code</th>\n",
       "      <th>Positive Alcohol Tests</th>\n",
       "      <th>Positive Drug Tests</th>\n",
       "      <th>Passengers Transported</th>\n",
       "      <th>Equipment Damage Cost</th>\n",
       "      <th>Primary Accident Cause</th>\n",
       "      <th>Hours Engineers On Duty</th>\n",
       "      <th>Total Persons Killed</th>\n",
       "      <th>Class</th>\n",
       "      <th>Equipment Type Code</th>\n",
       "    </tr>\n",
       "  </thead>\n",
       "  <tbody>\n",
       "    <tr>\n",
       "      <th>0</th>\n",
       "      <td>Northern Indiana Commuter Transportation District</td>\n",
       "      <td>NORTHEAST ILLINOIS REGIONAL COMMUTER RAIL CORP...</td>\n",
       "      <td>06/06/2017</td>\n",
       "      <td>Derailment</td>\n",
       "      <td>0.0</td>\n",
       "      <td>149.0</td>\n",
       "      <td>ILLINOIS</td>\n",
       "      <td>Clear</td>\n",
       "      <td>10.0</td>\n",
       "      <td>0.0</td>\n",
       "      <td>...</td>\n",
       "      <td>0.0</td>\n",
       "      <td>0.0</td>\n",
       "      <td>0.0</td>\n",
       "      <td>Yes</td>\n",
       "      <td>98627.0</td>\n",
       "      <td>Switch point worn or broken</td>\n",
       "      <td>1.0</td>\n",
       "      <td>0.0</td>\n",
       "      <td>No</td>\n",
       "      <td>3</td>\n",
       "    </tr>\n",
       "    <tr>\n",
       "      <th>1</th>\n",
       "      <td>NORTHEAST ILLINOIS REGIONAL COMMUTER RAIL CORP...</td>\n",
       "      <td>NORTHEAST ILLINOIS REGIONAL COMMUTER RAIL CORP...</td>\n",
       "      <td>06/06/2017</td>\n",
       "      <td>Derailment</td>\n",
       "      <td>0.0</td>\n",
       "      <td>0.0</td>\n",
       "      <td>ILLINOIS</td>\n",
       "      <td>Clear</td>\n",
       "      <td>0.0</td>\n",
       "      <td>0.0</td>\n",
       "      <td>...</td>\n",
       "      <td>NaN</td>\n",
       "      <td>NaN</td>\n",
       "      <td>NaN</td>\n",
       "      <td>NaN</td>\n",
       "      <td>0.0</td>\n",
       "      <td>Switch point worn or broken</td>\n",
       "      <td>NaN</td>\n",
       "      <td>0.0</td>\n",
       "      <td>No</td>\n",
       "      <td>NaN</td>\n",
       "    </tr>\n",
       "    <tr>\n",
       "      <th>2</th>\n",
       "      <td>Conrail</td>\n",
       "      <td>Conrail</td>\n",
       "      <td>04/06/1981</td>\n",
       "      <td>Side collision</td>\n",
       "      <td>0.0</td>\n",
       "      <td>0.0</td>\n",
       "      <td>NEW YORK</td>\n",
       "      <td>Snow</td>\n",
       "      <td>0.0</td>\n",
       "      <td>0.0</td>\n",
       "      <td>...</td>\n",
       "      <td>NaN</td>\n",
       "      <td>0.0</td>\n",
       "      <td>0.0</td>\n",
       "      <td>No</td>\n",
       "      <td>4000.0</td>\n",
       "      <td>Cars left foul</td>\n",
       "      <td>NaN</td>\n",
       "      <td>0.0</td>\n",
       "      <td>1L</td>\n",
       "      <td>5</td>\n",
       "    </tr>\n",
       "    <tr>\n",
       "      <th>3</th>\n",
       "      <td>Illinois Central Railroad Company</td>\n",
       "      <td>Cargill Elevator</td>\n",
       "      <td>01/11/2007</td>\n",
       "      <td>Derailment</td>\n",
       "      <td>0.0</td>\n",
       "      <td>0.0</td>\n",
       "      <td>LOUISIANA</td>\n",
       "      <td>Cloudy</td>\n",
       "      <td>4.0</td>\n",
       "      <td>14100.0</td>\n",
       "      <td>...</td>\n",
       "      <td>0.0</td>\n",
       "      <td>NaN</td>\n",
       "      <td>NaN</td>\n",
       "      <td>No</td>\n",
       "      <td>5220.0</td>\n",
       "      <td>Switch damaged or out of adjustment</td>\n",
       "      <td>10.0</td>\n",
       "      <td>0.0</td>\n",
       "      <td>1L</td>\n",
       "      <td>1</td>\n",
       "    </tr>\n",
       "    <tr>\n",
       "      <th>4</th>\n",
       "      <td>Illinois Central Railroad Company</td>\n",
       "      <td>Illinois Central Railroad Company</td>\n",
       "      <td>10/07/2017</td>\n",
       "      <td>Hwy-rail crossing</td>\n",
       "      <td>0.0</td>\n",
       "      <td>0.0</td>\n",
       "      <td>ILLINOIS</td>\n",
       "      <td>Clear</td>\n",
       "      <td>0.0</td>\n",
       "      <td>3482.0</td>\n",
       "      <td>...</td>\n",
       "      <td>0.0</td>\n",
       "      <td>NaN</td>\n",
       "      <td>NaN</td>\n",
       "      <td>No</td>\n",
       "      <td>13000.0</td>\n",
       "      <td>Highway user deliberately disregarded crossing...</td>\n",
       "      <td>8.0</td>\n",
       "      <td>0.0</td>\n",
       "      <td>Cl</td>\n",
       "      <td>1</td>\n",
       "    </tr>\n",
       "    <tr>\n",
       "      <th>5</th>\n",
       "      <td>Norfolk Southern Railway Company</td>\n",
       "      <td>Norfolk Southern Railway Company</td>\n",
       "      <td>10/15/2017</td>\n",
       "      <td>Derailment</td>\n",
       "      <td>0.0</td>\n",
       "      <td>0.0</td>\n",
       "      <td>ILLINOIS</td>\n",
       "      <td>Rain</td>\n",
       "      <td>3.0</td>\n",
       "      <td>6706.0</td>\n",
       "      <td>...</td>\n",
       "      <td>0.0</td>\n",
       "      <td>0.0</td>\n",
       "      <td>0.0</td>\n",
       "      <td>No</td>\n",
       "      <td>7418.0</td>\n",
       "      <td>Shoving movement, absence of man on or at lead...</td>\n",
       "      <td>2.0</td>\n",
       "      <td>0.0</td>\n",
       "      <td>CL</td>\n",
       "      <td>1</td>\n",
       "    </tr>\n",
       "    <tr>\n",
       "      <th>6</th>\n",
       "      <td>Union Pacific Railroad Company</td>\n",
       "      <td>Union Pacific Railroad Company</td>\n",
       "      <td>12/04/2017</td>\n",
       "      <td>Obstruction</td>\n",
       "      <td>0.0</td>\n",
       "      <td>0.0</td>\n",
       "      <td>ILLINOIS</td>\n",
       "      <td>Cloudy</td>\n",
       "      <td>0.0</td>\n",
       "      <td>0.0</td>\n",
       "      <td>...</td>\n",
       "      <td>NaN</td>\n",
       "      <td>NaN</td>\n",
       "      <td>NaN</td>\n",
       "      <td>NaN</td>\n",
       "      <td>0.0</td>\n",
       "      <td>Object or equipment on or fouling track - othe...</td>\n",
       "      <td>NaN</td>\n",
       "      <td>0.0</td>\n",
       "      <td>CL</td>\n",
       "      <td>NaN</td>\n",
       "    </tr>\n",
       "    <tr>\n",
       "      <th>7</th>\n",
       "      <td>NORTHEAST ILLINOIS REGIONAL COMMUTER RAIL CORP...</td>\n",
       "      <td>NORTHEAST ILLINOIS REGIONAL COMMUTER RAIL CORP...</td>\n",
       "      <td>12/19/2016</td>\n",
       "      <td>Other (describe in narrative)</td>\n",
       "      <td>0.0</td>\n",
       "      <td>0.0</td>\n",
       "      <td>ILLINOIS</td>\n",
       "      <td>Clear</td>\n",
       "      <td>0.0</td>\n",
       "      <td>0.0</td>\n",
       "      <td>...</td>\n",
       "      <td>NaN</td>\n",
       "      <td>NaN</td>\n",
       "      <td>NaN</td>\n",
       "      <td>NaN</td>\n",
       "      <td>0.0</td>\n",
       "      <td>Other miscellaneous causes (Provide detailed d...</td>\n",
       "      <td>NaN</td>\n",
       "      <td>0.0</td>\n",
       "      <td>No</td>\n",
       "      <td>NaN</td>\n",
       "    </tr>\n",
       "    <tr>\n",
       "      <th>8</th>\n",
       "      <td>Indiana Harbor Belt Railroad Company</td>\n",
       "      <td>Indiana Harbor Belt Railroad Company</td>\n",
       "      <td>03/30/2017</td>\n",
       "      <td>Derailment</td>\n",
       "      <td>0.0</td>\n",
       "      <td>0.0</td>\n",
       "      <td>ILLINOIS</td>\n",
       "      <td>Rain</td>\n",
       "      <td>10.0</td>\n",
       "      <td>2399.0</td>\n",
       "      <td>...</td>\n",
       "      <td>0.0</td>\n",
       "      <td>NaN</td>\n",
       "      <td>NaN</td>\n",
       "      <td>NaN</td>\n",
       "      <td>390870.0</td>\n",
       "      <td>Broken Rail - Base [Desc.Changed-Refer to Curr...</td>\n",
       "      <td>2.0</td>\n",
       "      <td>0.0</td>\n",
       "      <td>Cl</td>\n",
       "      <td>7</td>\n",
       "    </tr>\n",
       "    <tr>\n",
       "      <th>9</th>\n",
       "      <td>BNSF Railway Company</td>\n",
       "      <td>BNSF Railway Company</td>\n",
       "      <td>04/06/2017</td>\n",
       "      <td>Derailment</td>\n",
       "      <td>0.0</td>\n",
       "      <td>0.0</td>\n",
       "      <td>ILLINOIS</td>\n",
       "      <td>Clear</td>\n",
       "      <td>10.0</td>\n",
       "      <td>15760.0</td>\n",
       "      <td>...</td>\n",
       "      <td>0.0</td>\n",
       "      <td>0.0</td>\n",
       "      <td>0.0</td>\n",
       "      <td>No</td>\n",
       "      <td>750.0</td>\n",
       "      <td>Damaged flange or tread (build up)</td>\n",
       "      <td>9.0</td>\n",
       "      <td>0.0</td>\n",
       "      <td>CL</td>\n",
       "      <td>1</td>\n",
       "    </tr>\n",
       "  </tbody>\n",
       "</table>\n",
       "<p>10 rows × 21 columns</p>\n",
       "</div>"
      ],
      "text/plain": [
       "                             Reporting Railroad Name  \\\n",
       "0  Northern Indiana Commuter Transportation District   \n",
       "1  NORTHEAST ILLINOIS REGIONAL COMMUTER RAIL CORP...   \n",
       "2                                            Conrail   \n",
       "3                  Illinois Central Railroad Company   \n",
       "4                  Illinois Central Railroad Company   \n",
       "5                   Norfolk Southern Railway Company   \n",
       "6                     Union Pacific Railroad Company   \n",
       "7  NORTHEAST ILLINOIS REGIONAL COMMUTER RAIL CORP...   \n",
       "8               Indiana Harbor Belt Railroad Company   \n",
       "9                               BNSF Railway Company   \n",
       "\n",
       "                           Maintenance Railroad Name        Date  \\\n",
       "0  NORTHEAST ILLINOIS REGIONAL COMMUTER RAIL CORP...  06/06/2017   \n",
       "1  NORTHEAST ILLINOIS REGIONAL COMMUTER RAIL CORP...  06/06/2017   \n",
       "2                                            Conrail  04/06/1981   \n",
       "3                                   Cargill Elevator  01/11/2007   \n",
       "4                  Illinois Central Railroad Company  10/07/2017   \n",
       "5                   Norfolk Southern Railway Company  10/15/2017   \n",
       "6                     Union Pacific Railroad Company  12/04/2017   \n",
       "7  NORTHEAST ILLINOIS REGIONAL COMMUTER RAIL CORP...  12/19/2016   \n",
       "8               Indiana Harbor Belt Railroad Company  03/30/2017   \n",
       "9                               BNSF Railway Company  04/06/2017   \n",
       "\n",
       "                   Accident Type  Hazmat Released Cars  Persons Evacuated  \\\n",
       "0                     Derailment                   0.0              149.0   \n",
       "1                     Derailment                   0.0                0.0   \n",
       "2                 Side collision                   0.0                0.0   \n",
       "3                     Derailment                   0.0                0.0   \n",
       "4              Hwy-rail crossing                   0.0                0.0   \n",
       "5                     Derailment                   0.0                0.0   \n",
       "6                    Obstruction                   0.0                0.0   \n",
       "7  Other (describe in narrative)                   0.0                0.0   \n",
       "8                     Derailment                   0.0                0.0   \n",
       "9                     Derailment                   0.0                0.0   \n",
       "\n",
       "  State Name Weather Condition  Train Speed  Gross Tonnage  ...  \\\n",
       "0   ILLINOIS             Clear         10.0            0.0  ...   \n",
       "1   ILLINOIS             Clear          0.0            0.0  ...   \n",
       "2   NEW YORK              Snow          0.0            0.0  ...   \n",
       "3  LOUISIANA            Cloudy          4.0        14100.0  ...   \n",
       "4   ILLINOIS             Clear          0.0         3482.0  ...   \n",
       "5   ILLINOIS              Rain          3.0         6706.0  ...   \n",
       "6   ILLINOIS            Cloudy          0.0            0.0  ...   \n",
       "7   ILLINOIS             Clear          0.0            0.0  ...   \n",
       "8   ILLINOIS              Rain         10.0         2399.0  ...   \n",
       "9   ILLINOIS             Clear         10.0        15760.0  ...   \n",
       "\n",
       "  Remote Control Locomotive Code Positive Alcohol Tests  Positive Drug Tests  \\\n",
       "0                            0.0                    0.0                  0.0   \n",
       "1                            NaN                    NaN                  NaN   \n",
       "2                            NaN                    0.0                  0.0   \n",
       "3                            0.0                    NaN                  NaN   \n",
       "4                            0.0                    NaN                  NaN   \n",
       "5                            0.0                    0.0                  0.0   \n",
       "6                            NaN                    NaN                  NaN   \n",
       "7                            NaN                    NaN                  NaN   \n",
       "8                            0.0                    NaN                  NaN   \n",
       "9                            0.0                    0.0                  0.0   \n",
       "\n",
       "   Passengers Transported Equipment Damage Cost  \\\n",
       "0                     Yes               98627.0   \n",
       "1                     NaN                   0.0   \n",
       "2                      No                4000.0   \n",
       "3                      No                5220.0   \n",
       "4                      No               13000.0   \n",
       "5                      No                7418.0   \n",
       "6                     NaN                   0.0   \n",
       "7                     NaN                   0.0   \n",
       "8                     NaN              390870.0   \n",
       "9                      No                 750.0   \n",
       "\n",
       "                              Primary Accident Cause Hours Engineers On Duty  \\\n",
       "0                        Switch point worn or broken                     1.0   \n",
       "1                        Switch point worn or broken                     NaN   \n",
       "2                                     Cars left foul                     NaN   \n",
       "3                Switch damaged or out of adjustment                    10.0   \n",
       "4  Highway user deliberately disregarded crossing...                     8.0   \n",
       "5  Shoving movement, absence of man on or at lead...                     2.0   \n",
       "6  Object or equipment on or fouling track - othe...                     NaN   \n",
       "7  Other miscellaneous causes (Provide detailed d...                     NaN   \n",
       "8  Broken Rail - Base [Desc.Changed-Refer to Curr...                     2.0   \n",
       "9                 Damaged flange or tread (build up)                     9.0   \n",
       "\n",
       "   Total Persons Killed  Class Equipment Type Code  \n",
       "0                   0.0     No                   3  \n",
       "1                   0.0     No                 NaN  \n",
       "2                   0.0     1L                   5  \n",
       "3                   0.0     1L                   1  \n",
       "4                   0.0     Cl                   1  \n",
       "5                   0.0     CL                   1  \n",
       "6                   0.0     CL                 NaN  \n",
       "7                   0.0     No                 NaN  \n",
       "8                   0.0     Cl                   7  \n",
       "9                   0.0     CL                   1  \n",
       "\n",
       "[10 rows x 21 columns]"
      ]
     },
     "execution_count": 3,
     "metadata": {},
     "output_type": "execute_result"
    }
   ],
   "source": [
    "df = pd.read_csv('rr_data.csv', low_memory=False)\n",
    "df.head(10)"
   ]
  },
  {
   "attachments": {},
   "cell_type": "markdown",
   "metadata": {},
   "source": [
    "### drop columns that I don't need "
   ]
  },
  {
   "cell_type": "code",
   "execution_count": 4,
   "metadata": {},
   "outputs": [],
   "source": [
    "df.drop(['Class', 'Hours Engineers On Duty', \n",
    "         'Maintenance Railroad Name', \n",
    "         'Equipment Attended', \n",
    "         'Positive Drug Tests', \n",
    "         'Positive Alcohol Tests',\n",
    "         'Remote Control Locomotive Code',\n",
    "         'Primary Accident Cause'\n",
    "         ],  axis=1, inplace=True)\n"
   ]
  },
  {
   "attachments": {},
   "cell_type": "markdown",
   "metadata": {},
   "source": [
    "### Check DataFrame dtypes"
   ]
  },
  {
   "cell_type": "code",
   "execution_count": 5,
   "metadata": {},
   "outputs": [
    {
     "name": "stdout",
     "output_type": "stream",
     "text": [
      "<class 'pandas.core.frame.DataFrame'>\n",
      "RangeIndex: 215849 entries, 0 to 215848\n",
      "Data columns (total 13 columns):\n",
      " #   Column                   Non-Null Count   Dtype  \n",
      "---  ------                   --------------   -----  \n",
      " 0   Reporting Railroad Name  215846 non-null  object \n",
      " 1   Date                     215847 non-null  object \n",
      " 2   Accident Type            215847 non-null  object \n",
      " 3   Hazmat Released Cars     215848 non-null  float64\n",
      " 4   Persons Evacuated        215848 non-null  float64\n",
      " 5   State Name               215848 non-null  object \n",
      " 6   Weather Condition        215454 non-null  object \n",
      " 7   Train Speed              215846 non-null  float64\n",
      " 8   Gross Tonnage            215848 non-null  float64\n",
      " 9   Passengers Transported   205176 non-null  object \n",
      " 10  Equipment Damage Cost    215848 non-null  float64\n",
      " 11  Total Persons Killed     215848 non-null  float64\n",
      " 12  Equipment Type Code      204640 non-null  object \n",
      "dtypes: float64(6), object(7)\n",
      "memory usage: 21.4+ MB\n"
     ]
    }
   ],
   "source": [
    "df.info()"
   ]
  },
  {
   "attachments": {},
   "cell_type": "markdown",
   "metadata": {},
   "source": [
    "### Rename columns"
   ]
  },
  {
   "cell_type": "code",
   "execution_count": 6,
   "metadata": {},
   "outputs": [],
   "source": [
    "df.rename(columns= {'Equipment Type Code': 'Equipment', \n",
    "'Weather Condition': 'Weather', \n",
    "'Train Speed': 'Speed', \n",
    "'Reporting Railroad Name': 'Railroad', \n",
    "'State Name': 'State', \n",
    "'Equipment Damage Cost': 'Damage',\n",
    "'Primary Accident Cause': 'Cause',\n",
    "'Passengers Transported': 'Passengers',\n",
    "'Accident Type': 'Accident_Type',\n",
    "'Persons Evacuated': 'Evacuated',\n",
    "'Positive Alcohol Tests': 'Alcohol_Test',\n",
    "'Positive Drug Tests': 'Drug_Test',\n",
    "'Hazmat Released Cars': 'Spill_Cars',\n",
    "'Total Persons Killed': 'Killed',\n",
    "'Gross Tonnage': 'Tonnage'}, inplace=True)"
   ]
  },
  {
   "attachments": {},
   "cell_type": "markdown",
   "metadata": {},
   "source": [
    "### Dropping passenger rail incidents"
   ]
  },
  {
   "cell_type": "code",
   "execution_count": 7,
   "metadata": {},
   "outputs": [],
   "source": [
    "passenger_trians = [2, 3, 'B', 'C', 'EMU', 'DMU']\n",
    "\n",
    "df = df[df.Equipment.isin(passenger_trians) == False]"
   ]
  },
  {
   "cell_type": "code",
   "execution_count": 8,
   "metadata": {},
   "outputs": [],
   "source": [
    "df.drop(df.loc[df['Passengers']=='Yes'].index, inplace=True)"
   ]
  },
  {
   "attachments": {},
   "cell_type": "markdown",
   "metadata": {},
   "source": [
    "### Only needed Equipment and Passengers to drop all but freight"
   ]
  },
  {
   "cell_type": "code",
   "execution_count": 9,
   "metadata": {},
   "outputs": [
    {
     "name": "stdout",
     "output_type": "stream",
     "text": [
      "<class 'pandas.core.frame.DataFrame'>\n",
      "Int64Index: 208708 entries, 1 to 215848\n",
      "Data columns (total 11 columns):\n",
      " #   Column         Non-Null Count   Dtype  \n",
      "---  ------         --------------   -----  \n",
      " 0   Railroad       208705 non-null  object \n",
      " 1   Date           208706 non-null  object \n",
      " 2   Accident_Type  208706 non-null  object \n",
      " 3   Spill_Cars     208707 non-null  float64\n",
      " 4   Evacuated      208707 non-null  float64\n",
      " 5   State          208707 non-null  object \n",
      " 6   Weather        208325 non-null  object \n",
      " 7   Speed          208705 non-null  float64\n",
      " 8   Tonnage        208707 non-null  float64\n",
      " 9   Damage         208707 non-null  float64\n",
      " 10  Killed         208707 non-null  float64\n",
      "dtypes: float64(6), object(5)\n",
      "memory usage: 19.1+ MB\n"
     ]
    }
   ],
   "source": [
    "df.drop('Equipment', axis=1, inplace=True)\n",
    "df.drop('Passengers', axis=1, inplace=True)        \n",
    "df.info()"
   ]
  },
  {
   "attachments": {},
   "cell_type": "markdown",
   "metadata": {},
   "source": [
    "### Any rows with NaN for railroad name or date is a error"
   ]
  },
  {
   "cell_type": "code",
   "execution_count": 10,
   "metadata": {},
   "outputs": [],
   "source": [
    "df.dropna(subset=['Railroad', 'Date'], inplace=True)"
   ]
  },
  {
   "attachments": {},
   "cell_type": "markdown",
   "metadata": {},
   "source": [
    "### Fill NaN with usable values"
   ]
  },
  {
   "cell_type": "code",
   "execution_count": 11,
   "metadata": {},
   "outputs": [
    {
     "name": "stdout",
     "output_type": "stream",
     "text": [
      "<class 'pandas.core.frame.DataFrame'>\n",
      "Int64Index: 208704 entries, 1 to 215848\n",
      "Data columns (total 11 columns):\n",
      " #   Column         Non-Null Count   Dtype  \n",
      "---  ------         --------------   -----  \n",
      " 0   Railroad       208704 non-null  object \n",
      " 1   Date           208704 non-null  object \n",
      " 2   Accident_Type  208704 non-null  object \n",
      " 3   Spill_Cars     208704 non-null  float64\n",
      " 4   Evacuated      208704 non-null  float64\n",
      " 5   State          208704 non-null  object \n",
      " 6   Weather        208704 non-null  object \n",
      " 7   Speed          208704 non-null  float64\n",
      " 8   Tonnage        208704 non-null  float64\n",
      " 9   Damage         208704 non-null  float64\n",
      " 10  Killed         208704 non-null  float64\n",
      "dtypes: float64(6), object(5)\n",
      "memory usage: 19.1+ MB\n"
     ]
    }
   ],
   "source": [
    "df.Weather = df.Weather.fillna('Unknown')\n",
    "df.Accident_Type = df.Accident_Type.fillna('Unknown')\n",
    "df.Speed = df.Speed.fillna(0)\n",
    "df.info()"
   ]
  },
  {
   "attachments": {},
   "cell_type": "markdown",
   "metadata": {},
   "source": [
    "### Change data types"
   ]
  },
  {
   "cell_type": "code",
   "execution_count": 12,
   "metadata": {},
   "outputs": [
    {
     "name": "stdout",
     "output_type": "stream",
     "text": [
      "<class 'pandas.core.frame.DataFrame'>\n",
      "Int64Index: 208704 entries, 1 to 215848\n",
      "Data columns (total 11 columns):\n",
      " #   Column         Non-Null Count   Dtype         \n",
      "---  ------         --------------   -----         \n",
      " 0   Railroad       208704 non-null  object        \n",
      " 1   Date           208704 non-null  datetime64[ns]\n",
      " 2   Accident_Type  208704 non-null  object        \n",
      " 3   Spill_Cars     208704 non-null  Int64         \n",
      " 4   Evacuated      208704 non-null  Int64         \n",
      " 5   State          208704 non-null  object        \n",
      " 6   Weather        208704 non-null  object        \n",
      " 7   Speed          208704 non-null  Int64         \n",
      " 8   Tonnage        208704 non-null  Int64         \n",
      " 9   Damage         208704 non-null  Int64         \n",
      " 10  Killed         208704 non-null  Int64         \n",
      "dtypes: Int64(6), datetime64[ns](1), object(4)\n",
      "memory usage: 20.3+ MB\n"
     ]
    }
   ],
   "source": [
    "df = df.astype({'Tonnage': 'Int64', 'Damage': 'Int64', \n",
    "'Killed': 'Int64', 'Speed': 'Int64',\n",
    "'Spill_Cars': 'Int64',\n",
    "'Evacuated': 'Int64'})\n",
    "df['Date'] = df['Date'].astype('datetime64[ns]')\n",
    "df.info()\n"
   ]
  },
  {
   "attachments": {},
   "cell_type": "markdown",
   "metadata": {},
   "source": [
    "### dropping the one canadian owned railroad"
   ]
  },
  {
   "cell_type": "code",
   "execution_count": 13,
   "metadata": {},
   "outputs": [],
   "source": [
    "df = df[~df['Railroad'].str.contains('Illinois Central Gulf Railroad Company')]"
   ]
  },
  {
   "attachments": {},
   "cell_type": "markdown",
   "metadata": {},
   "source": [
    "### Dropping all but the major class 1 railroads"
   ]
  },
  {
   "cell_type": "code",
   "execution_count": 14,
   "metadata": {},
   "outputs": [
    {
     "data": {
      "text/plain": [
       "Union Pacific Railroad Company                 30701\n",
       "BNSF Railway Company                           15547\n",
       "CSX Transportation                             13477\n",
       "Burlington Northern Railroad Company           13327\n",
       "Conrail                                        12487\n",
       "Southern Pacific Transportation Company         8896\n",
       "Norfolk Southern Railway Company                8452\n",
       "Chicago And North Western Railway Company       7743\n",
       "Atchison, Topeka & Santa Fe Railway Company     5398\n",
       "Louisville And Nashville Railroad Company       4141\n",
       "Name: Railroad, dtype: int64"
      ]
     },
     "execution_count": 14,
     "metadata": {},
     "output_type": "execute_result"
    }
   ],
   "source": [
    "value_counts = df['Railroad'].value_counts()\n",
    "to_remove = value_counts[value_counts <= 4120].index\n",
    "df = df[~df.Railroad.isin(to_remove)]\n",
    "df.Railroad.value_counts()"
   ]
  },
  {
   "attachments": {},
   "cell_type": "markdown",
   "metadata": {},
   "source": [
    "### Correcting the railroad names."
   ]
  },
  {
   "cell_type": "code",
   "execution_count": 15,
   "metadata": {},
   "outputs": [],
   "source": [
    "replace_dict = {'BNSF Railway Company': 'BNSF',\n",
    "                'Burlington Northern Railroad Company': 'BNSF',\n",
    "                'Conrail': 'Norfolk Southern',\n",
    "                'Norfolk Southern Railway Company': 'Norfolk Southern',\n",
    "                'Union Pacific Railroad Company': 'Union Pacific',\n",
    "                'Southern Pacific Transportation Company': 'Union Pacific',\n",
    "                'Atchison, Topeka & Santa Fe Railway Company': 'BNSF',\n",
    "                'Chicago And North Western Railway Company': 'Union Pacific',\n",
    "                'CSX Transportation': 'CSX',\n",
    "                'Louisville And Nashville Railroad Company': 'CSX'}\n",
    "df['Railroad'] = df['Railroad'].replace(replace_dict)"
   ]
  },
  {
   "attachments": {},
   "cell_type": "markdown",
   "metadata": {},
   "source": [
    "### Checking that the rename worked"
   ]
  },
  {
   "cell_type": "code",
   "execution_count": 16,
   "metadata": {},
   "outputs": [
    {
     "data": {
      "text/plain": [
       "Union Pacific       47340\n",
       "BNSF                34272\n",
       "Norfolk Southern    20939\n",
       "CSX                 17618\n",
       "Name: Railroad, dtype: int64"
      ]
     },
     "execution_count": 16,
     "metadata": {},
     "output_type": "execute_result"
    }
   ],
   "source": [
    "\n",
    "value_counts = df['Railroad'].value_counts()\n",
    "\n",
    "df.Railroad.value_counts()"
   ]
  },
  {
   "attachments": {},
   "cell_type": "markdown",
   "metadata": {},
   "source": [
    "### sorting by date"
   ]
  },
  {
   "cell_type": "code",
   "execution_count": 17,
   "metadata": {},
   "outputs": [],
   "source": [
    "df.sort_values(by=['Date'], inplace=True)"
   ]
  },
  {
   "attachments": {},
   "cell_type": "markdown",
   "metadata": {},
   "source": [
    "### reset index"
   ]
  },
  {
   "cell_type": "code",
   "execution_count": 18,
   "metadata": {},
   "outputs": [
    {
     "data": {
      "text/html": [
       "<div>\n",
       "<style scoped>\n",
       "    .dataframe tbody tr th:only-of-type {\n",
       "        vertical-align: middle;\n",
       "    }\n",
       "\n",
       "    .dataframe tbody tr th {\n",
       "        vertical-align: top;\n",
       "    }\n",
       "\n",
       "    .dataframe thead th {\n",
       "        text-align: right;\n",
       "    }\n",
       "</style>\n",
       "<table border=\"1\" class=\"dataframe\">\n",
       "  <thead>\n",
       "    <tr style=\"text-align: right;\">\n",
       "      <th></th>\n",
       "      <th>Railroad</th>\n",
       "      <th>Date</th>\n",
       "      <th>Accident_Type</th>\n",
       "      <th>Spill_Cars</th>\n",
       "      <th>Evacuated</th>\n",
       "      <th>State</th>\n",
       "      <th>Weather</th>\n",
       "      <th>Speed</th>\n",
       "      <th>Tonnage</th>\n",
       "      <th>Damage</th>\n",
       "      <th>Killed</th>\n",
       "    </tr>\n",
       "  </thead>\n",
       "  <tbody>\n",
       "    <tr>\n",
       "      <th>0</th>\n",
       "      <td>BNSF</td>\n",
       "      <td>1975-01-01</td>\n",
       "      <td>Derailment</td>\n",
       "      <td>0</td>\n",
       "      <td>0</td>\n",
       "      <td>CALIFORNIA</td>\n",
       "      <td>Cloudy</td>\n",
       "      <td>0</td>\n",
       "      <td>0</td>\n",
       "      <td>1800</td>\n",
       "      <td>0</td>\n",
       "    </tr>\n",
       "    <tr>\n",
       "      <th>1</th>\n",
       "      <td>BNSF</td>\n",
       "      <td>1975-01-01</td>\n",
       "      <td>Derailment</td>\n",
       "      <td>0</td>\n",
       "      <td>0</td>\n",
       "      <td>ARIZONA</td>\n",
       "      <td>Cloudy</td>\n",
       "      <td>12</td>\n",
       "      <td>3826</td>\n",
       "      <td>5000</td>\n",
       "      <td>0</td>\n",
       "    </tr>\n",
       "    <tr>\n",
       "      <th>2</th>\n",
       "      <td>Union Pacific</td>\n",
       "      <td>1975-01-01</td>\n",
       "      <td>Derailment</td>\n",
       "      <td>0</td>\n",
       "      <td>0</td>\n",
       "      <td>ILLINOIS</td>\n",
       "      <td>Clear</td>\n",
       "      <td>5</td>\n",
       "      <td>0</td>\n",
       "      <td>1400</td>\n",
       "      <td>0</td>\n",
       "    </tr>\n",
       "    <tr>\n",
       "      <th>3</th>\n",
       "      <td>Union Pacific</td>\n",
       "      <td>1975-01-02</td>\n",
       "      <td>Derailment</td>\n",
       "      <td>0</td>\n",
       "      <td>0</td>\n",
       "      <td>KANSAS</td>\n",
       "      <td>Snow</td>\n",
       "      <td>45</td>\n",
       "      <td>6843</td>\n",
       "      <td>400</td>\n",
       "      <td>0</td>\n",
       "    </tr>\n",
       "    <tr>\n",
       "      <th>4</th>\n",
       "      <td>Union Pacific</td>\n",
       "      <td>1975-01-02</td>\n",
       "      <td>Derailment</td>\n",
       "      <td>0</td>\n",
       "      <td>0</td>\n",
       "      <td>IDAHO</td>\n",
       "      <td>Cloudy</td>\n",
       "      <td>55</td>\n",
       "      <td>6487</td>\n",
       "      <td>4800</td>\n",
       "      <td>0</td>\n",
       "    </tr>\n",
       "    <tr>\n",
       "      <th>5</th>\n",
       "      <td>BNSF</td>\n",
       "      <td>1975-01-03</td>\n",
       "      <td>Derailment</td>\n",
       "      <td>0</td>\n",
       "      <td>0</td>\n",
       "      <td>NEBRASKA</td>\n",
       "      <td>Cloudy</td>\n",
       "      <td>7</td>\n",
       "      <td>3995</td>\n",
       "      <td>1750</td>\n",
       "      <td>0</td>\n",
       "    </tr>\n",
       "    <tr>\n",
       "      <th>6</th>\n",
       "      <td>Union Pacific</td>\n",
       "      <td>1975-01-03</td>\n",
       "      <td>Derailment</td>\n",
       "      <td>0</td>\n",
       "      <td>0</td>\n",
       "      <td>TEXAS</td>\n",
       "      <td>Clear</td>\n",
       "      <td>0</td>\n",
       "      <td>0</td>\n",
       "      <td>0</td>\n",
       "      <td>0</td>\n",
       "    </tr>\n",
       "    <tr>\n",
       "      <th>7</th>\n",
       "      <td>BNSF</td>\n",
       "      <td>1975-01-03</td>\n",
       "      <td>Other impacts</td>\n",
       "      <td>0</td>\n",
       "      <td>0</td>\n",
       "      <td>ILLINOIS</td>\n",
       "      <td>Cloudy</td>\n",
       "      <td>50</td>\n",
       "      <td>4846</td>\n",
       "      <td>500</td>\n",
       "      <td>0</td>\n",
       "    </tr>\n",
       "    <tr>\n",
       "      <th>8</th>\n",
       "      <td>BNSF</td>\n",
       "      <td>1975-01-04</td>\n",
       "      <td>Side collision</td>\n",
       "      <td>0</td>\n",
       "      <td>0</td>\n",
       "      <td>WASHINGTON</td>\n",
       "      <td>Cloudy</td>\n",
       "      <td>45</td>\n",
       "      <td>10046</td>\n",
       "      <td>29850</td>\n",
       "      <td>0</td>\n",
       "    </tr>\n",
       "    <tr>\n",
       "      <th>9</th>\n",
       "      <td>CSX</td>\n",
       "      <td>1975-01-04</td>\n",
       "      <td>Derailment</td>\n",
       "      <td>0</td>\n",
       "      <td>0</td>\n",
       "      <td>KENTUCKY</td>\n",
       "      <td>Clear</td>\n",
       "      <td>25</td>\n",
       "      <td>3053</td>\n",
       "      <td>85583</td>\n",
       "      <td>0</td>\n",
       "    </tr>\n",
       "    <tr>\n",
       "      <th>10</th>\n",
       "      <td>Union Pacific</td>\n",
       "      <td>1975-01-04</td>\n",
       "      <td>Derailment</td>\n",
       "      <td>0</td>\n",
       "      <td>0</td>\n",
       "      <td>CALIFORNIA</td>\n",
       "      <td>Clear</td>\n",
       "      <td>9</td>\n",
       "      <td>14606</td>\n",
       "      <td>8300</td>\n",
       "      <td>0</td>\n",
       "    </tr>\n",
       "    <tr>\n",
       "      <th>11</th>\n",
       "      <td>BNSF</td>\n",
       "      <td>1975-01-04</td>\n",
       "      <td>Derailment</td>\n",
       "      <td>0</td>\n",
       "      <td>0</td>\n",
       "      <td>ILLINOIS</td>\n",
       "      <td>Cloudy</td>\n",
       "      <td>20</td>\n",
       "      <td>9827</td>\n",
       "      <td>500</td>\n",
       "      <td>0</td>\n",
       "    </tr>\n",
       "    <tr>\n",
       "      <th>12</th>\n",
       "      <td>BNSF</td>\n",
       "      <td>1975-01-04</td>\n",
       "      <td>Derailment</td>\n",
       "      <td>0</td>\n",
       "      <td>0</td>\n",
       "      <td>TEXAS</td>\n",
       "      <td>Clear</td>\n",
       "      <td>4</td>\n",
       "      <td>0</td>\n",
       "      <td>2500</td>\n",
       "      <td>0</td>\n",
       "    </tr>\n",
       "    <tr>\n",
       "      <th>13</th>\n",
       "      <td>Union Pacific</td>\n",
       "      <td>1975-01-04</td>\n",
       "      <td>Derailment</td>\n",
       "      <td>0</td>\n",
       "      <td>0</td>\n",
       "      <td>IOWA</td>\n",
       "      <td>Snow</td>\n",
       "      <td>3</td>\n",
       "      <td>0</td>\n",
       "      <td>1200</td>\n",
       "      <td>0</td>\n",
       "    </tr>\n",
       "    <tr>\n",
       "      <th>14</th>\n",
       "      <td>CSX</td>\n",
       "      <td>1975-01-04</td>\n",
       "      <td>Derailment</td>\n",
       "      <td>0</td>\n",
       "      <td>0</td>\n",
       "      <td>VIRGINIA</td>\n",
       "      <td>Cloudy</td>\n",
       "      <td>24</td>\n",
       "      <td>165</td>\n",
       "      <td>11850</td>\n",
       "      <td>0</td>\n",
       "    </tr>\n",
       "  </tbody>\n",
       "</table>\n",
       "</div>"
      ],
      "text/plain": [
       "         Railroad       Date   Accident_Type  Spill_Cars  Evacuated  \\\n",
       "0            BNSF 1975-01-01      Derailment           0          0   \n",
       "1            BNSF 1975-01-01      Derailment           0          0   \n",
       "2   Union Pacific 1975-01-01      Derailment           0          0   \n",
       "3   Union Pacific 1975-01-02      Derailment           0          0   \n",
       "4   Union Pacific 1975-01-02      Derailment           0          0   \n",
       "5            BNSF 1975-01-03      Derailment           0          0   \n",
       "6   Union Pacific 1975-01-03      Derailment           0          0   \n",
       "7            BNSF 1975-01-03   Other impacts           0          0   \n",
       "8            BNSF 1975-01-04  Side collision           0          0   \n",
       "9             CSX 1975-01-04      Derailment           0          0   \n",
       "10  Union Pacific 1975-01-04      Derailment           0          0   \n",
       "11           BNSF 1975-01-04      Derailment           0          0   \n",
       "12           BNSF 1975-01-04      Derailment           0          0   \n",
       "13  Union Pacific 1975-01-04      Derailment           0          0   \n",
       "14            CSX 1975-01-04      Derailment           0          0   \n",
       "\n",
       "         State Weather  Speed  Tonnage  Damage  Killed  \n",
       "0   CALIFORNIA  Cloudy      0        0    1800       0  \n",
       "1      ARIZONA  Cloudy     12     3826    5000       0  \n",
       "2     ILLINOIS   Clear      5        0    1400       0  \n",
       "3       KANSAS    Snow     45     6843     400       0  \n",
       "4        IDAHO  Cloudy     55     6487    4800       0  \n",
       "5     NEBRASKA  Cloudy      7     3995    1750       0  \n",
       "6        TEXAS   Clear      0        0       0       0  \n",
       "7     ILLINOIS  Cloudy     50     4846     500       0  \n",
       "8   WASHINGTON  Cloudy     45    10046   29850       0  \n",
       "9     KENTUCKY   Clear     25     3053   85583       0  \n",
       "10  CALIFORNIA   Clear      9    14606    8300       0  \n",
       "11    ILLINOIS  Cloudy     20     9827     500       0  \n",
       "12       TEXAS   Clear      4        0    2500       0  \n",
       "13        IOWA    Snow      3        0    1200       0  \n",
       "14    VIRGINIA  Cloudy     24      165   11850       0  "
      ]
     },
     "execution_count": 18,
     "metadata": {},
     "output_type": "execute_result"
    }
   ],
   "source": [
    "df = df.reset_index(drop=True)\n",
    "df.head(15)"
   ]
  },
  {
   "attachments": {},
   "cell_type": "markdown",
   "metadata": {},
   "source": [
    "## Calling my shared_count function to see that Kentucky has a total of 1928 derailments in this dataframe"
   ]
  },
  {
   "cell_type": "code",
   "execution_count": 19,
   "metadata": {},
   "outputs": [
    {
     "data": {
      "text/plain": [
       "1928"
      ]
     },
     "execution_count": 19,
     "metadata": {},
     "output_type": "execute_result"
    }
   ],
   "source": [
    "shared_count = count_shared_values(df, 'Accident_Type', 'State', 'Derailment', 'KENTUCKY')\n",
    "shared_count"
   ]
  },
  {
   "attachments": {},
   "cell_type": "markdown",
   "metadata": {},
   "source": [
    "## CSX has had 10956 total derailments"
   ]
  },
  {
   "cell_type": "code",
   "execution_count": 20,
   "metadata": {},
   "outputs": [
    {
     "data": {
      "text/plain": [
       "10956"
      ]
     },
     "execution_count": 20,
     "metadata": {},
     "output_type": "execute_result"
    }
   ],
   "source": [
    "shared_count = count_shared_values(df, 'Railroad', 'Accident_Type', 'CSX', 'Derailment')\n",
    "shared_count"
   ]
  },
  {
   "attachments": {},
   "cell_type": "markdown",
   "metadata": {},
   "source": [
    "## Norfolk Southern has 13617 total dedrailments"
   ]
  },
  {
   "cell_type": "code",
   "execution_count": 21,
   "metadata": {},
   "outputs": [
    {
     "data": {
      "text/plain": [
       "13617"
      ]
     },
     "execution_count": 21,
     "metadata": {},
     "output_type": "execute_result"
    }
   ],
   "source": [
    "shared_count = count_shared_values(df, 'Railroad', 'Accident_Type', 'Norfolk Southern', 'Derailment')\n",
    "shared_count"
   ]
  },
  {
   "cell_type": "code",
   "execution_count": 22,
   "metadata": {},
   "outputs": [
    {
     "data": {
      "text/plain": [
       "Derailment                       76794\n",
       "Other impacts                    13320\n",
       "Side collision                   12113\n",
       "Hwy-rail crossing                 5818\n",
       "Rear end collision                2613\n",
       "Other (describe in narrative)     2195\n",
       "Raking collision                  2091\n",
       "Obstruction                       2041\n",
       "Fire/violent rupture              1602\n",
       "Head on collision                 1121\n",
       "Broken train collision             369\n",
       "RR grade crossing                   52\n",
       "Explosion-detonation                40\n",
       "Name: Accident_Type, dtype: int64"
      ]
     },
     "execution_count": 22,
     "metadata": {},
     "output_type": "execute_result"
    }
   ],
   "source": [
    "value_counts = df['Accident_Type'].value_counts()\n",
    "\n",
    "df.Accident_Type.value_counts()"
   ]
  },
  {
   "attachments": {},
   "cell_type": "markdown",
   "metadata": {},
   "source": [
    "### creating a series with groupby"
   ]
  },
  {
   "cell_type": "code",
   "execution_count": 23,
   "metadata": {},
   "outputs": [],
   "source": [
    "evac_year = df.groupby(df.Date.dt.year)['Evacuated'].sum()"
   ]
  },
  {
   "attachments": {},
   "cell_type": "markdown",
   "metadata": {},
   "source": [
    "### converted series to a dataframe"
   ]
  },
  {
   "cell_type": "code",
   "execution_count": 29,
   "metadata": {},
   "outputs": [],
   "source": [
    "evac_df = evac_year.reset_index()"
   ]
  },
  {
   "cell_type": "code",
   "execution_count": 28,
   "metadata": {},
   "outputs": [
    {
     "data": {
      "image/png": "[encoded data removed]",
      "text/plain": [
       "<Figure size 640x480 with 1 Axes>"
      ]
     },
     "metadata": {},
     "output_type": "display_data"
    }
   ],
   "source": [
    "colors = ['green','blue','purple','brown','teal', 'tab:blue', 'tab:olive']\n",
    "plt.bar(evac_df['Date'], evac_df['Evacuated'], color=colors, width=1)\n",
    "plt.style.use('seaborn-v0_8-muted')\n",
    "plt.title('Number of people evacuated per year', fontsize=17)\n",
    "plt.xlabel('Year', fontsize=14)\n",
    "plt.ylabel('Evacuated', fontsize=14)\n",
    "\n",
    "plt.show()"
   ]
  },
  {
   "cell_type": "code",
   "execution_count": 31,
   "metadata": {},
   "outputs": [],
   "source": [
    "rrgb = df.groupby(df.Date.dt.year)['Killed'].sum()"
   ]
  },
  {
   "cell_type": "code",
   "execution_count": 34,
   "metadata": {},
   "outputs": [],
   "source": [
    "killed_df = rrgb.reset_index()"
   ]
  },
  {
   "cell_type": "code",
   "execution_count": 35,
   "metadata": {},
   "outputs": [
    {
     "data": {
      "image/png": "[encoded data removed]",
      "text/plain": [
       "<Figure size 640x480 with 1 Axes>"
      ]
     },
     "metadata": {},
     "output_type": "display_data"
    }
   ],
   "source": [
    "colors = ['green','blue','purple','brown','teal', 'tab:blue', 'tab:olive']\n",
    "plt.bar(killed_df['Date'], killed_df['Killed'], color=colors, width=1)\n",
    "plt.style.use('seaborn-v0_8-muted')\n",
    "plt.title('Number of people Killed per year', fontsize=17)\n",
    "plt.xlabel('Year', fontsize=14)\n",
    "plt.ylabel('People Killed', fontsize=14)\n",
    "\n",
    "plt.show()"
   ]
  }
 ],
 "metadata": {
  "kernelspec": {
   "display_name": "Python 3",
   "language": "python",
   "name": "python3"
  },
  "language_info": {
   "codemirror_mode": {
    "name": "ipython",
    "version": 3
   },
   "file_extension": ".py",
   "mimetype": "text/x-python",
   "name": "python",
   "nbconvert_exporter": "python",
   "pygments_lexer": "ipython3",
   "version": "3.11.2"
  },
  "orig_nbformat": 4,
  "vscode": {
   "interpreter": {
    "hash": "7ee2502c6956ed09249b93c0e9ccf008e42e5a7ae794ae8c7a7fdf5dd0089ba9"
   }
  }
 },
 "nbformat": 4,
 "nbformat_minor": 2
}
